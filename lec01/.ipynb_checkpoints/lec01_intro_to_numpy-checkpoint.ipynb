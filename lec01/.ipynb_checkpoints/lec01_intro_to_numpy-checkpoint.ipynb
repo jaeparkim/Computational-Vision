{
 "cells": [
  {
   "cell_type": "markdown",
   "metadata": {},
   "source": [
    "<h2>CSCI 4270/6270, Lecture 01<br>Introduction to NumPy<br>\n",
    "Computational Vision<br>\n",
    "January 25, 2021</h2>"
   ]
  },
  {
   "cell_type": "markdown",
   "metadata": {},
   "source": [
    "### NumPy: Numerical Python\n",
    "\n",
    "Array programming.\n",
    "+ Compact (few for loops)\n",
    "+ Clear\n",
    "+ Powerful\n",
    "+ Efficient - speeds nearing those of compiled languages\n",
    "\n",
    "Images are large three dimensional arrays\n",
    "+ IPhone 12: 4000 x 3000 x 3\n",
    "+ Typically we will work with reduced resolution images\n",
    "\n",
    "See, for example: \n",
    "+ Charles R. Harris et al., Array Programming with NumPy, *Nature*, volume 585, pages 357–362(2020)"
   ]
  },
  {
   "cell_type": "markdown",
   "metadata": {},
   "source": [
    "### Overview of the Basics\n",
    "\n",
    "Here is an outline of the topics we will cover in class.  What we write to fill in will be posted both as an html file and as a Jupyter notebook.\n",
    "+ A first example\n",
    "+ Array creation\n",
    "+ Array dimensions\n",
    "+ Changing shape\n",
    "+ Indexing and slicing\n",
    "+ Views and copying\n",
    "+ Arithmetic operators\n",
    "+ Universal functions\n",
    "+ Concatenating and splitting\n",
    "+ Summary of differences between NumPy arrays and Python lists\n",
    "\n",
    "See the Submitty page for links to on-line tutorials"
   ]
  },
  {
   "cell_type": "markdown",
   "metadata": {},
   "source": [
    "### A first example\n",
    "We'll start with an example showing\n",
    "+ Initial creation\n",
    "+ Reshaping from one dimension to two\n",
    "+ Indexing to access and change values\n",
    "+ Single data type:  dtype\n",
    "+ The type of the array object"
   ]
  },
  {
   "cell_type": "code",
   "execution_count": 7,
   "metadata": {},
   "outputs": [
    {
     "name": "stdout",
     "output_type": "stream",
     "text": [
      "(6,)\n",
      "[ 4 19 12 93 45 22]\n",
      "(2, 3)\n",
      "[[ 4 19 12]\n",
      " [93 45 22]]\n",
      "[[   4   19   12]\n",
      " [  93 -999   22]]\n",
      "[   4   19   12   93 -999   22]\n"
     ]
    }
   ],
   "source": [
    "import numpy as np\n",
    "v = [4, 19, 12, 93, 45, 22]\n",
    "a = np.array(v)\n",
    "print(a.shape)\n",
    "print(a)\n",
    "b = a.reshape(2, 3)\n",
    "print(b.shape)\n",
    "print(b)\n",
    "b[1,1] = -999\n",
    "print(b)\n",
    "print(a)\n"
   ]
  },
  {
   "cell_type": "markdown",
   "metadata": {},
   "source": [
    "### Array creation\n",
    "Many methods to explore:\n",
    "+ Creating directly from a list or from lists of lists\n",
    "+ arange\n",
    "+ linspace\n",
    "+ random\n",
    "+ eye\n",
    "+ ones\n",
    "+ zeros\n",
    "+ setting the data type\n"
   ]
  },
  {
   "cell_type": "code",
   "execution_count": 8,
   "metadata": {},
   "outputs": [
    {
     "name": "stdout",
     "output_type": "stream",
     "text": [
      "[ 0  1  2  3  4  5  6  7  8  9 10 11 12 13 14 15 16 17 18 19 20 21 22 23]\n",
      "----------------------------------------------------\n",
      "[[[ 0  1  2  3]\n",
      "  [ 4  5  6  7]\n",
      "  [ 8  9 10 11]]\n",
      "\n",
      " [[12 13 14 15]\n",
      "  [16 17 18 19]\n",
      "  [20 21 22 23]]]\n",
      "----------------------------------------------------\n",
      "[[45 46 47 48 49]\n",
      " [50 51 52 53 54]\n",
      " [55 56 57 58 59]\n",
      " [60 61 62 63 64]]\n"
     ]
    }
   ],
   "source": [
    "# Array creation examples, starting wiht np.arange()\n",
    "a = np.arange(24)\n",
    "print(a)\n",
    "\n",
    "print(\"----------------------------------------------------\")\n",
    "# two of 3 by 4 arrays (3d-array)\n",
    "print(a.reshape(2,3,4))\n",
    "\n",
    "print(\"----------------------------------------------------\")\n",
    "c = np.arange(45,65).reshape(4,5)\n",
    "print(c)"
   ]
  },
  {
   "cell_type": "code",
   "execution_count": 9,
   "metadata": {},
   "outputs": [
    {
     "name": "stdout",
     "output_type": "stream",
     "text": [
      "[-10.   -9.9  -9.8  -9.7  -9.6  -9.5  -9.4  -9.3  -9.2  -9.1  -9.   -8.9\n",
      "  -8.8  -8.7  -8.6  -8.5  -8.4  -8.3  -8.2  -8.1  -8.   -7.9  -7.8  -7.7\n",
      "  -7.6  -7.5  -7.4  -7.3  -7.2  -7.1  -7.   -6.9  -6.8  -6.7  -6.6  -6.5\n",
      "  -6.4  -6.3  -6.2  -6.1  -6.   -5.9  -5.8  -5.7  -5.6  -5.5  -5.4  -5.3\n",
      "  -5.2  -5.1  -5.   -4.9  -4.8  -4.7  -4.6  -4.5  -4.4  -4.3  -4.2  -4.1\n",
      "  -4.   -3.9  -3.8  -3.7  -3.6  -3.5  -3.4  -3.3  -3.2  -3.1  -3.   -2.9\n",
      "  -2.8  -2.7  -2.6  -2.5  -2.4  -2.3  -2.2  -2.1  -2.   -1.9  -1.8  -1.7\n",
      "  -1.6  -1.5  -1.4  -1.3  -1.2  -1.1  -1.   -0.9  -0.8  -0.7  -0.6  -0.5\n",
      "  -0.4  -0.3  -0.2  -0.1   0.    0.1   0.2   0.3   0.4   0.5   0.6   0.7\n",
      "   0.8   0.9   1.    1.1   1.2   1.3   1.4   1.5   1.6   1.7   1.8   1.9\n",
      "   2.    2.1   2.2   2.3   2.4   2.5   2.6   2.7   2.8   2.9   3.    3.1\n",
      "   3.2   3.3   3.4   3.5   3.6   3.7   3.8   3.9   4.    4.1   4.2   4.3\n",
      "   4.4   4.5   4.6   4.7   4.8   4.9   5.    5.1   5.2   5.3   5.4   5.5\n",
      "   5.6   5.7   5.8   5.9   6.    6.1   6.2   6.3   6.4   6.5   6.6   6.7\n",
      "   6.8   6.9   7.    7.1   7.2   7.3   7.4   7.5   7.6   7.7   7.8   7.9\n",
      "   8.    8.1   8.2   8.3   8.4   8.5   8.6   8.7   8.8   8.9   9.    9.1\n",
      "   9.2   9.3   9.4   9.5   9.6   9.7   9.8   9.9  10. ]\n",
      "----------------------------------------------------------------------------\n",
      "[-1.   -0.98 -0.96 -0.94 -0.92 -0.9  -0.88 -0.86 -0.84 -0.82 -0.8  -0.78\n",
      " -0.76 -0.74 -0.72 -0.7  -0.68 -0.66 -0.64 -0.62 -0.6  -0.58 -0.56 -0.54\n",
      " -0.52 -0.5  -0.48 -0.46 -0.44 -0.42 -0.4  -0.38 -0.36 -0.34 -0.32 -0.3\n",
      " -0.28 -0.26 -0.24 -0.22 -0.2  -0.18 -0.16 -0.14 -0.12 -0.1  -0.08 -0.06\n",
      " -0.04 -0.02  0.    0.02  0.04  0.06  0.08  0.1   0.12  0.14  0.16  0.18\n",
      "  0.2   0.22  0.24  0.26  0.28  0.3   0.32  0.34  0.36  0.38  0.4   0.42\n",
      "  0.44  0.46  0.48  0.5   0.52  0.54  0.56  0.58  0.6   0.62  0.64  0.66\n",
      "  0.68  0.7   0.72  0.74  0.76  0.78  0.8   0.82  0.84  0.86  0.88  0.9\n",
      "  0.92  0.94  0.96  0.98]\n"
     ]
    }
   ],
   "source": [
    "# linspace (linear space)\n",
    "\n",
    "d = np.linspace(-10, 10, 201)\n",
    "print(d)\n",
    "\n",
    "print(\"----------------------------------------------------------------------------\")\n",
    "e = np.linspace(-1, 1, 100, endpoint=False)\n",
    "print(e)\n"
   ]
  },
  {
   "cell_type": "code",
   "execution_count": 10,
   "metadata": {},
   "outputs": [
    {
     "name": "stdout",
     "output_type": "stream",
     "text": [
      "[[36 26 10 41]\n",
      " [19 22 30 38]]\n",
      "[[0.32022745 0.91788887 0.66686433 0.26639673 0.34667871]\n",
      " [0.32801364 0.5085142  0.57694379 0.77134114 0.08511598]]\n"
     ]
    }
   ],
   "source": [
    "# np.random.random and np.random.randint\n",
    "\n",
    "c = np.random.randint(10, 50, (2, 4))\n",
    "print(c)\n",
    "\n",
    "d = np.random.random((2,5))\n",
    "print(d)\n"
   ]
  },
  {
   "cell_type": "code",
   "execution_count": 11,
   "metadata": {},
   "outputs": [
    {
     "name": "stdout",
     "output_type": "stream",
     "text": [
      "[[1. 0. 0. 0.]\n",
      " [0. 1. 0. 0.]\n",
      " [0. 0. 1. 0.]\n",
      " [0. 0. 0. 1.]]\n",
      "[[0. 0. 0. 0. 0.]\n",
      " [1. 0. 0. 0. 0.]\n",
      " [0. 1. 0. 0. 0.]\n",
      " [0. 0. 1. 0. 0.]\n",
      " [0. 0. 0. 1. 0.]\n",
      " [0. 0. 0. 0. 1.]]\n",
      "[[0. 1. 0. 0. 0.]\n",
      " [0. 0. 1. 0. 0.]\n",
      " [0. 0. 0. 1. 0.]\n",
      " [0. 0. 0. 0. 1.]\n",
      " [0. 0. 0. 0. 0.]\n",
      " [0. 0. 0. 0. 0.]]\n"
     ]
    }
   ],
   "source": [
    "# np.eye\n",
    "# eye = identity array\n",
    "\n",
    "print(np.eye(4,4))\n",
    "print(np.eye(6,5, k=-1))\n",
    "print(np.eye(6,5, k=1))\n"
   ]
  },
  {
   "cell_type": "code",
   "execution_count": 12,
   "metadata": {},
   "outputs": [
    {
     "name": "stdout",
     "output_type": "stream",
     "text": [
      "[[[1. 1. 1. 1.]\n",
      "  [1. 1. 1. 1.]\n",
      "  [1. 1. 1. 1.]]\n",
      "\n",
      " [[1. 1. 1. 1.]\n",
      "  [1. 1. 1. 1.]\n",
      "  [1. 1. 1. 1.]]]\n"
     ]
    }
   ],
   "source": [
    "# np.ones and np.zeros\n",
    "\n",
    "print(np.ones((2,3,4)))\n"
   ]
  },
  {
   "cell_type": "markdown",
   "metadata": {},
   "source": [
    "### Array dimensions\n",
    "+ 1-d: a row vector\n",
    "+ 2-d: a traditional array with rows indexed first and columns indexed second\n",
    "+ n-d: nested dimesions read from outside in\n",
    "+ Can even have 0-d, which is essentially a scalar, but we will not spend any time on this\n",
    "\n"
   ]
  },
  {
   "cell_type": "code",
   "execution_count": 13,
   "metadata": {},
   "outputs": [],
   "source": [
    "# no code needed"
   ]
  },
  {
   "cell_type": "markdown",
   "metadata": {},
   "source": [
    "### Shapes and reshaping\n",
    "+ We can reshape a NumPy array to any other shape that uses the same number of values\n",
    "+ The shape may be assigned as an l-value and accessed as an r-value\n",
    "    + It is simply an attribute of each NumPy array\n",
    "+ ravel and flatten create 1d versions of arrays\n",
    "    + ravel creates a shallow copy, while flatten creates a deep copy."
   ]
  },
  {
   "cell_type": "code",
   "execution_count": 14,
   "metadata": {},
   "outputs": [
    {
     "name": "stdout",
     "output_type": "stream",
     "text": [
      "a= [[ 0  1  2  3  4  5]\n",
      " [ 6  7  8  9 10 11]]\n",
      "b= [ 0  1  2  3  4  5  6  7  8  9 10 11]\n",
      "c= [ 0  1  2  3  4  5  6  7  8  9 10 11]\n",
      "\n",
      "a= [[ 0  1  2 71  4  5]\n",
      " [ 6  7  8  9 10 11]]\n",
      "b= [ 0  1  2 71  4  5  6  7  8  9 10 11]\n",
      "c= [  0   1   2   3 893   5   6   7   8   9  10  11]\n"
     ]
    }
   ],
   "source": [
    "# Examples of shape and reshaping, including ravel and flatten (note the a_)\n",
    "\n",
    "a = np.arange(12)\n",
    "\n",
    "a.shape = (2, 6)\n",
    "print('a=', a)\n",
    "\n",
    "# a.shape(2, 5)\n",
    "# this will not work because the parameters are incorrect (wrong num of elements)\n",
    "\n",
    "# two ways of putting it back to one dimensional array\n",
    "b = a.ravel() # ld, shallow\n",
    "c = a. flatten() # ld, deep copy\n",
    "\n",
    "print('b=', b)\n",
    "print('c=', c)\n",
    "print()\n",
    "\n",
    "b [3] = 71\n",
    "c [4] = 893\n",
    "print('a=', a)\n",
    "print('b=', b)\n",
    "print('c=', c)"
   ]
  },
  {
   "cell_type": "markdown",
   "metadata": {},
   "source": [
    "### Indexing and slicing\n",
    "+ Initial intuitions are similar to operations on Python lists\n",
    "    + Watch out though for important differences that will emerge, starting with syntax\n",
    "+ 1d, 2d, and more\n",
    "+ Leaving out a dimension (at the end) gives the entire contents of that dimension"
   ]
  },
  {
   "cell_type": "code",
   "execution_count": 15,
   "metadata": {},
   "outputs": [
    {
     "name": "stdout",
     "output_type": "stream",
     "text": [
      "a= [[10 11 12 13 14]\n",
      " [15 16 17 18 19]\n",
      " [20 21 22 23 24]]\n",
      "b= [[17 18]\n",
      " [22 23]]\n",
      "c= [15 16 17 18 19]\n"
     ]
    }
   ],
   "source": [
    "# Examples of indexing and slicing\n",
    "# 1, 2d array, 2d subarray, 1d subarray\n",
    "\n",
    "a = np.arange(10,25).reshape(3,5)\n",
    "b = a[1:3, 2:4]\n",
    "print('a=', a)\n",
    "print('b=', b)\n",
    "\n",
    "c = a[1]\n",
    "print('c=', c)\n"
   ]
  },
  {
   "cell_type": "code",
   "execution_count": 16,
   "metadata": {},
   "outputs": [
    {
     "name": "stdout",
     "output_type": "stream",
     "text": [
      "d= [[[ 0  1  2  3]\n",
      "  [ 4  5  6  7]\n",
      "  [ 8  9 10 11]]\n",
      "\n",
      " [[12 13 14 15]\n",
      "  [16 17 18 19]\n",
      "  [20 21 22 23]]]\n",
      "e= [[14 15]\n",
      " [18 19]\n",
      " [22 23]]\n",
      "(3, 2)\n"
     ]
    }
   ],
   "source": [
    "# 2. 3d example down to 2d\n",
    "d = np.arange(24).reshape(2,3,4)\n",
    "print('d=', d)\n",
    "\n",
    "e = d[1, :, 2:4]\n",
    "print('e=', e) # 1x3x2? 3x2\n",
    "print(e.shape)"
   ]
  },
  {
   "cell_type": "markdown",
   "metadata": {},
   "source": [
    "### Views and copying\n",
    "+ Unlike lists, when an array is sliced, the result is a view or shallow copy of the array.\n",
    "+ When the slice is an l-value, the contents of the array are changed!\n",
    "    + We will use this next week to insert a picture within a picture"
   ]
  },
  {
   "cell_type": "code",
   "execution_count": 17,
   "metadata": {},
   "outputs": [
    {
     "name": "stdout",
     "output_type": "stream",
     "text": [
      "a= [[80 59 26 10 77]\n",
      " [21 15 93 33 15]]\n",
      "b= [[26 10]\n",
      " [93 33]]\n",
      "a= [[ 80  59 777 777  77]\n",
      " [ 21  15 777 777  15]]\n",
      "b= [[777 777]\n",
      " [777 777]]\n"
     ]
    }
   ],
   "source": [
    "# Examples for views and copying\n",
    "# 1. 2d array with subarray assingned to a constant\n",
    "\n",
    "a = np.random.randint(0, 100, (2,5))\n",
    "print('a=', a)\n",
    "\n",
    "b = a[:, 2:4]\n",
    "print('b=', b)\n",
    "\n",
    "b[:,:] = 777\n",
    "print('a=', a)\n",
    "print('b=', b)"
   ]
  },
  {
   "cell_type": "code",
   "execution_count": 18,
   "metadata": {},
   "outputs": [
    {
     "name": "stdout",
     "output_type": "stream",
     "text": [
      "c= [[-96 -93]\n",
      " [-99 -99]]\n",
      "a= [[ 80  59 -96 -93  77]\n",
      " [ 21  15 -99 -99  15]]\n"
     ]
    }
   ],
   "source": [
    "# 2. 2d array with subarray assigned from another array\n",
    "\n",
    "c = np.random.randint(-100, -90, b.shape)\n",
    "print('c=', c)\n",
    "\n",
    "b[:,:] = c[:,:] # copy c to b\n",
    "print('a=', a) # changes a"
   ]
  },
  {
   "cell_type": "code",
   "execution_count": 19,
   "metadata": {},
   "outputs": [
    {
     "name": "stdout",
     "output_type": "stream",
     "text": [
      "a= [[1. 1. 1. 1. 1.]\n",
      " [1. 1. 1. 1. 1.]\n",
      " [1. 1. 1. 1. 1.]\n",
      " [1. 1. 1. 1. 1.]\n",
      " [1. 1. 1. 1. 1.]]\n",
      "a= [[ 1.  1.  1.  1.  1.]\n",
      " [ 1.  1. 88.  1. 88.]\n",
      " [ 1.  1.  1.  1.  1.]\n",
      " [ 1.  1. 88.  1. 88.]\n",
      " [ 1.  1.  1.  1.  1.]]\n"
     ]
    }
   ],
   "source": [
    "#3. 2d array with non-continguous assingment\n",
    "\n",
    "a = np.ones((5,5))\n",
    "print('a=', a)\n",
    "\n",
    "a[1::2, 2::2] = 88\n",
    "# from row 1 and 1+2n, from column 2 and 2+2n\n",
    "\n",
    "print('a=', a)"
   ]
  },
  {
   "cell_type": "code",
   "execution_count": 20,
   "metadata": {},
   "outputs": [
    {
     "name": "stdout",
     "output_type": "stream",
     "text": [
      "float64\n",
      "<class 'numpy.ndarray'>\n"
     ]
    }
   ],
   "source": [
    "print(a.dtype)\n",
    "print(type(a))"
   ]
  },
  {
   "cell_type": "markdown",
   "metadata": {},
   "source": [
    "### Arithmetic operators applied to arrays\n",
    "+ Addition, subtraction, multiplication, etc.\n",
    "    + Note that multiplication is component-wise, rather than standard matrix multiplication\n",
    "    + Achieve matrix multiplication with 'dot' method\n",
    "+ Operators require compatible dimensions.  For example\n",
    "    + A scalar is compatible with any array\n",
    "    + Arrays of the same dimensions are compatible \n",
    "+ A vector and a 2d array may be added if the array has the same number of columns as the length of the vector.\n",
    "    + This is an initial example of NumPy \"broadcast rules\", which we will study in more detail in Lecture 2"
   ]
  },
  {
   "cell_type": "code",
   "execution_count": 21,
   "metadata": {},
   "outputs": [
    {
     "name": "stdout",
     "output_type": "stream",
     "text": [
      "a= [[0 1 2 3 4]\n",
      " [5 6 7 8 9]]\n",
      "b= [[60 41 50 53 62]\n",
      " [36 31 88 64 69]]\n",
      "Addition\n",
      "[[60 42 52 56 66]\n",
      " [41 37 95 72 78]]\n",
      "Subtraction\n",
      "[[-60 -40 -48 -50 -58]\n",
      " [-31 -25 -81 -56 -60]]\n",
      "Multiplication\n",
      "[[  0  41 100 159 248]\n",
      " [180 186 616 512 621]]\n"
     ]
    }
   ],
   "source": [
    "# 1. Addition, subtraction, component-wise multiplication\n",
    "a = np.arange(10).reshape(2,5)\n",
    "b = np.random.randint(0,100, (2,5))\n",
    "print('a=', a)\n",
    "print('b=', b)\n",
    "print('Addition')\n",
    "print(a+b)\n",
    "print('Subtraction')\n",
    "print(a-b)\n",
    "print('Multiplication')\n",
    "print(a*b) # not a standard matrix multiplication\n",
    "\n",
    "# this will not work because the sizes are different\n",
    "# print(a + np.arange(12).reshape(2,6))"
   ]
  },
  {
   "cell_type": "code",
   "execution_count": 22,
   "metadata": {},
   "outputs": [
    {
     "name": "stdout",
     "output_type": "stream",
     "text": [
      "[[ 548  675]\n",
      " [1878 2115]]\n"
     ]
    }
   ],
   "source": [
    "# 2. Matrix multiplication as a dot product\n",
    "print(np.dot(a, b.T)) # 2x5 times 5x2 -> 2x2 matrix # matrix transposed\n"
   ]
  },
  {
   "cell_type": "code",
   "execution_count": 23,
   "metadata": {
    "scrolled": true
   },
   "outputs": [
    {
     "name": "stdout",
     "output_type": "stream",
     "text": [
      "a=\n",
      " [[0 1 2 3 4]\n",
      " [5 6 7 8 9]]\n",
      "c=\n",
      " [10 11 12 13 14]\n",
      "a+c=\n",
      " [[10 12 14 16 18]\n",
      " [15 17 19 21 23]]\n"
     ]
    }
   ],
   "source": [
    "# 3. Vector added to 2d array\n",
    "c = np.arange(10, 15) # row vector of 5 values\n",
    "print('a=\\n', a)\n",
    "print('c=\\n', c)\n",
    "print('a+c=\\n', a+c)"
   ]
  },
  {
   "cell_type": "markdown",
   "metadata": {},
   "source": [
    "### Universal functions - Applied to entire array\n",
    "+ We'll look at just a few important examples (of many):\n",
    "    + Average, dot, max, sum, cumsum\n",
    "+ Can specify the axis along which the function is applied\n",
    "+ Some functions, like argmax, give results that are defined in terms of the 1d, raveled version of the array!"
   ]
  },
  {
   "cell_type": "code",
   "execution_count": 24,
   "metadata": {},
   "outputs": [
    {
     "name": "stdout",
     "output_type": "stream",
     "text": [
      "a=\n",
      " [[0 1 2 3 4]\n",
      " [5 6 7 8 9]]\n",
      "b=\n",
      " [[39 27 40 37  0]\n",
      " [21 35 10 16  4]]\n",
      "Max 40\n",
      "Avg 22.9\n",
      "Sum 229\n"
     ]
    }
   ],
   "source": [
    "# Universal function examples\n",
    "\n",
    "# 1. Max, average, sum\n",
    "a = np.arange(10).reshape(2,5)\n",
    "print('a=\\n', a)\n",
    "b = np.random.randint(0, 50, (2,5))\n",
    "print('b=\\n', b)\n",
    "print('Max', np.max(b))\n",
    "print('Avg', np.average(b))\n",
    "print('Sum', np.sum(b))"
   ]
  },
  {
   "cell_type": "code",
   "execution_count": 25,
   "metadata": {},
   "outputs": [
    {
     "name": "stdout",
     "output_type": "stream",
     "text": [
      "Max along column axis\n",
      "[40 35]\n"
     ]
    }
   ],
   "source": [
    "# 2. Operations applied along an axis\n",
    "print('Max along column axis')\n",
    "print(np.max(b, axis=1))  # gives the max value in each row"
   ]
  },
  {
   "cell_type": "code",
   "execution_count": 26,
   "metadata": {},
   "outputs": [
    {
     "name": "stdout",
     "output_type": "stream",
     "text": [
      "Cumulative sum along the horizontal\n",
      "[[ 39  66 106 143 143]\n",
      " [ 21  56  66  82  86]]\n",
      "Cumulative sum along the vertical\n",
      "[[39 27 40 37  0]\n",
      " [60 62 50 53  4]]\n"
     ]
    }
   ],
   "source": [
    "# 3. Cumulative summations along an axis\n",
    "print('Cumulative sum along the horizontal')\n",
    "print(np.cumsum(b, axis=1))\n",
    "print('Cumulative sum along the vertical')\n",
    "print(np.cumsum(b, axis=0))\n"
   ]
  },
  {
   "cell_type": "code",
   "execution_count": 27,
   "metadata": {},
   "outputs": [
    {
     "name": "stdout",
     "output_type": "stream",
     "text": [
      "[ 39  66 106 143 143 164 199 209 225 229]\n",
      "[[ 39  66 106 143 143]\n",
      " [164 199 209 225 229]]\n"
     ]
    }
   ],
   "source": [
    "# 4. Cumulative summation and ravel and reshape\n",
    "print(np.cumsum(b))\n",
    "print(np.cumsum(b).reshape(b.shape))"
   ]
  },
  {
   "cell_type": "code",
   "execution_count": 32,
   "metadata": {},
   "outputs": [
    {
     "name": "stdout",
     "output_type": "stream",
     "text": [
      "b=\n",
      " [[39 27 40 37  0]\n",
      " [21 35 10 16  4]]\n",
      "4\n"
     ]
    },
    {
     "data": {
      "text/plain": [
       "(0, 4)"
      ]
     },
     "execution_count": 32,
     "metadata": {},
     "output_type": "execute_result"
    }
   ],
   "source": [
    "# 5. Use of unravel_index\n",
    "print('b=\\n', b)\n",
    "print(np.argmin(b))   # returns the smallest element in b, returned in the 1-d ordering\n",
    "i = np.argmin(b)\n",
    "np.unravel_index(i, b.shape) #index(location) of the smallest element(i) in b"
   ]
  },
  {
   "cell_type": "markdown",
   "metadata": {},
   "source": [
    "### Combining and splitting arrays\n",
    "+ concatenate:\n",
    "    + Give tuple of arrays and specify axis along which to combine\n",
    "    + Arrays dimensions must match exactly except along the axis\n",
    "+ Split using indices\n",
    "+ We'll look at example of combining 2d arrays into another 2d array, but also extending to 3d using the stack method\n",
    "    + Useful for splitting and combining images"
   ]
  },
  {
   "cell_type": "code",
   "execution_count": 33,
   "metadata": {},
   "outputs": [
    {
     "name": "stdout",
     "output_type": "stream",
     "text": [
      "a=\n",
      " [[0 1 2 3 4]\n",
      " [5 6 7 8 9]]\n",
      "b=\n",
      " [[39 27 40 37  0]\n",
      " [21 35 10 16  4]]\n",
      "[[ 0  1  2  3  4]\n",
      " [ 5  6  7  8  9]\n",
      " [39 27 40 37  0]\n",
      " [21 35 10 16  4]]\n",
      "[[ 0  1  2  3  4 39 27 40 37  0]\n",
      " [ 5  6  7  8  9 21 35 10 16  4]]\n",
      "d=\n",
      " [[ 0  1  2  3  4  0  1  2  3  4  5  6  7  8  9]\n",
      " [ 5  6  7  8  9 10 11 12 13 14 15 16 17 18 19]]\n"
     ]
    }
   ],
   "source": [
    "# Concatenate two dimensional arrays\n",
    "print('a=\\n', a)\n",
    "print('b=\\n', b)\n",
    "print(np.concatenate((a,b), axis=0))\n",
    "print(np.concatenate((a,b), axis=1))\n",
    "c = np.arange(20).reshape(2,10)\n",
    "d = np.concatenate((a,c), axis=1)\n",
    "# print(np.concatenate((a,c), axis=0))\n",
    "print('d=\\n', d)"
   ]
  },
  {
   "cell_type": "code",
   "execution_count": 30,
   "metadata": {},
   "outputs": [
    {
     "name": "stdout",
     "output_type": "stream",
     "text": [
      "4\n",
      "[[0 1 2 3]\n",
      " [5 6 7 8]]\n",
      "[[ 4  0  1  2  3  4  5]\n",
      " [ 9 10 11 12 13 14 15]]\n",
      "[[ 6  7]\n",
      " [16 17]]\n",
      "[[999   1   2   3]\n",
      " [  5   6   7   8]]\n"
     ]
    }
   ],
   "source": [
    "# Split the result - split returns a Python list of NumPy arrays\n",
    "v = np.split(d, (4, 11, 13), axis=1)   # python array with 4 NumPy arrays\n",
    "print(len(v))\n",
    "print(v[0])\n",
    "print(v[1])\n",
    "print(v[2])\n",
    "d[0,0] = 999\n",
    "print(v[0])"
   ]
  },
  {
   "cell_type": "markdown",
   "metadata": {},
   "source": [
    "### NumPy arrays vs. Python lists, revisited\n",
    "+ NumPy arrays are homogeneous; Python lists are heterogeneous\n",
    "+ Slicing a NumPy list creates a view without copying; slicing a Python lists creates a new list\n",
    "+ Many functional and numeric operations have been created for NumPy arrays"
   ]
  }
 ],
 "metadata": {
  "kernelspec": {
   "display_name": "Python 3",
   "language": "python",
   "name": "python3"
  },
  "language_info": {
   "codemirror_mode": {
    "name": "ipython",
    "version": 3
   },
   "file_extension": ".py",
   "mimetype": "text/x-python",
   "name": "python",
   "nbconvert_exporter": "python",
   "pygments_lexer": "ipython3",
   "version": "3.8.5"
  }
 },
 "nbformat": 4,
 "nbformat_minor": 2
}
