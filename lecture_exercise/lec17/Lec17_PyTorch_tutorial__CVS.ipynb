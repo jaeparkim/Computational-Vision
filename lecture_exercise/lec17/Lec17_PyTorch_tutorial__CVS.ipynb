{
  "nbformat": 4,
  "nbformat_minor": 0,
  "metadata": {
    "kernelspec": {
      "display_name": "Python 3",
      "language": "python",
      "name": "python3"
    },
    "language_info": {
      "codemirror_mode": {
        "name": "ipython",
        "version": 3
      },
      "file_extension": ".py",
      "mimetype": "text/x-python",
      "name": "python",
      "nbconvert_exporter": "python",
      "pygments_lexer": "ipython3",
      "version": "3.8.5"
    },
    "colab": {
      "name": "PyTorch_tutorial__CVS.ipynb",
      "provenance": [],
      "collapsed_sections": []
    }
  },
  "cells": [
    {
      "cell_type": "code",
      "metadata": {
        "id": "Rx_LkLMEbst4"
      },
      "source": [
        ""
      ],
      "execution_count": null,
      "outputs": []
    },
    {
      "cell_type": "markdown",
      "metadata": {
        "id": "Uo67Y4B-ZNlg"
      },
      "source": [
        "### Introduction to PyTorch and Neural Networks\n",
        "#### Charles Stewart\n",
        "#### Last revision: March 24, 2021\n",
        "\n",
        "This is a brief tutorial introduction to PyTorch using a specific example of building a neural network that learns to classify points as inside or outside a hyper sphere\n",
        "of a given radius.\n",
        "\n",
        "We'll start with the problem itself, working purely in NumPy in order to clarify\n",
        "what we are trying to do.  After this, we'll introduce the basic notation of PyTorch, and proceed to two different neural network solutions.\n",
        "\n",
        "Please feel free to search for and examine other tutorials. I wrote this one and am teaching from it, but others might be equally or even more helpful!\n",
        "\n"
      ]
    },
    {
      "cell_type": "markdown",
      "metadata": {
        "id": "bHjHPJMsqsdx"
      },
      "source": [
        "## Google Colaboratory\n",
        "\n",
        "The document you are working with right now is written as a Jupyter notebook.  We will see how to use it as a Google colaboratory notebook, giving us access to GPU computations.  Several things have to happen for you to get started with this.\n",
        "\n",
        "1.   Put the notebook on Google Drive\n",
        "2.   Link the app:  On Google Drive click New -> More -> Connect More Apps and then choose Google Colaboratory.  You can make this app the default for .ipynb files\n",
        "3.   Open the notebook you'd like to work with\n",
        "4.   Make sure pytorch is installed by typing\n",
        "\n",
        "         !pip install torch\n",
        "\n",
        "         !pip install torchvision\n",
        "\n",
        "      in a notebook code cell.  The ! indicates that what follows is a shell command.  \n",
        "\n",
        "5.   You can switch back and forth between running on the Google cloud on a CPU (the default) or a GPU.  I recommend running on the CPU until your networks are debugged because GPU execution runs you out of free compute credits faster.  To make the change, on the top menu click **Runtime -> Change runtime type**, and then make the appropriate selection.\n",
        "\n",
        "\n"
      ]
    },
    {
      "cell_type": "markdown",
      "metadata": {
        "id": "OKyPmN4qwWI2"
      },
      "source": [
        "## Now for the problem"
      ]
    },
    {
      "cell_type": "code",
      "metadata": {
        "colab": {
          "base_uri": "https://localhost:8080/",
          "height": 299
        },
        "id": "ZCsvrNOJZNlm",
        "outputId": "57070b8b-4e59-4aef-be76-f299aef18ae4"
      },
      "source": [
        "# -*- coding: utf-8 -*-\n",
        "import numpy as np\n",
        "\n",
        "def gen_from_sphere(n, center, r_min, r_max):\n",
        "    '''\n",
        "    Generate n points in random directions from a center that are at least\n",
        "    r_min away and at most r_max away.  If r_min is 0 then the points are\n",
        "    within a hyper sphere of radius r_max.  Otherwise, the points are within a\n",
        "    spherical shell whose minimum radius is r_min and whose maximum radius\n",
        "    is r_max.  Note that the points generated in this simple way are not\n",
        "    uniformly distributed in Euclidean space, but that is not a major concern\n",
        "    here.\n",
        "    \n",
        "    The dimensionality of the space is inferred from the dimension of the center\n",
        "    point.  \n",
        "    \n",
        "    Return an array where each row is a data point. I.e. the array dimensions are (n, dim)\n",
        "    '''\n",
        "    dim = center.size\n",
        "    points = np.broadcast_to(center.reshape(1, dim), (n, dim)) \n",
        "    directions = 2 * np.random.random((n, dim)) - 1\n",
        "    directions /= np.linalg.norm(directions, axis=1).reshape((n, 1))\n",
        "    offsets = np.random.random(n) * (r_max - r_min) + r_min\n",
        "    points = points + directions * offsets.reshape((n, 1))\n",
        "    return points\n",
        "\n",
        "\n",
        "def gen_points_nested_spheres(n, center, r_min, r_max, debug=False):\n",
        "    '''\n",
        "    Generate n data points in hypersphere, half of which - the \"inliers\" --\n",
        "    are within r_min of the center and half of which -- the \"outliers\" -- are\n",
        "    between r_min and r_max.  Returned are the points in an n X d array\n",
        "    (dim is the dimension of the center point) and a n X 2 binary array\n",
        "    labeling whether the points are inliers (1,0) or outliers (0,1).\n",
        "    \n",
        "    If the debug flag is on, the array shape of the points and the labels\n",
        "    are output.  In addition, if the dimension is 2 then a plot is generated.\n",
        "    '''\n",
        "    num_inliers = n//2\n",
        "    num_outliers = n - num_inliers\n",
        "    inlier_X = gen_from_sphere(num_inliers, center, 0, r_min)\n",
        "    inlier_Y = np.broadcast_to(np.array([1., 0.]), (num_inliers, 2))\n",
        "    outlier_X = gen_from_sphere(num_outliers, center, r_min, r_max)\n",
        "    outlier_Y = np.broadcast_to(np.array([0., 1.]), (num_outliers, 2))\n",
        "    X = np.concatenate((inlier_X, outlier_X), axis=0)\n",
        "    Y = np.concatenate((inlier_Y, outlier_Y), axis=0)\n",
        "    \n",
        "    if debug:\n",
        "        print('Generated points in array of dimension', X.shape)\n",
        "        print('Binary labels are in a second array of dimension', Y.shape)\n",
        "        \n",
        "        if center.size == 2:\n",
        "            from matplotlib import pyplot as plt\n",
        "            plt.scatter(inlier_X[:,0], inlier_X[:,1], marker='+' )\n",
        "            plt.scatter(outlier_X[:,0], outlier_X[:,1], marker='o' )\n",
        "            plt.axis('equal')\n",
        "            plt.show()\n",
        "\n",
        "    return X,Y\n",
        "\n",
        "# Generate an example in 2d, just to see the point distribution\n",
        "# The \"real\" data will be in higher dimensions. \n",
        "num_points = 400\n",
        "center = np.array([1.5, 6.4])\n",
        "r_min, r_max = 5, 10\n",
        "X,Y = gen_points_nested_spheres(num_points, center, r_min, r_max, debug=True)\n"
      ],
      "execution_count": 1,
      "outputs": [
        {
          "output_type": "stream",
          "text": [
            "Generated points in array of dimension (400, 2)\n",
            "Binary labels are in a second array of dimension (400, 2)\n"
          ],
          "name": "stdout"
        },
        {
          "output_type": "display_data",
          "data": {
            "image/png": "[encoded data removed]",
            "text/plain": [
              "<Figure size 432x288 with 1 Axes>"
            ]
          },
          "metadata": {
            "tags": [],
            "needs_background": "light"
          }
        }
      ]
    },
    {
      "cell_type": "markdown",
      "metadata": {
        "id": "uG9FGJZ2ZNll"
      },
      "source": [
        "### PyTorch\n",
        "\n",
        "Now for PyTorch.  The starting point is http://pytorch.org/tutorials/ for tutorials and http://pytorch.org/docs/master/ for extensive documentation.  On the tutorials site, I found both the \"60 Minute Blitz\" and \"Learning PyTorch with Examples\" to be useful, but preferred the latter.  It starts with a simple neural network implemented in NumPy, then converts this to use of PyTorch Tensors.  Next it introduces Variables and their most important property, automatic gradient calculation (\"autograd\").  At that point it has two subsections, one on defining new autograd functions and the second comparing to TensorFlow Static Graphs.  Neither of these is terribly important on first reading.  Instead, I'd suggest skipping ahead to the nn module.  I suggest going back to the 60 Minute Blitz for examples of convolutional layers.\n",
        "\n",
        "We'll start here with a brief discussion of Tensors and Variables and then jump right into Neural Networks."
      ]
    },
    {
      "cell_type": "code",
      "metadata": {
        "colab": {
          "base_uri": "https://localhost:8080/"
        },
        "id": "EuLe6Jj7ZNln",
        "outputId": "a1b4cf2a-975f-48e8-ab2f-c6f8bd885f6a"
      },
      "source": [
        "import torch\n",
        "from torch.autograd import Variable\n",
        "\n",
        "# The first important property of torch is the notion of a Tensor.  This is essentially\n",
        "# the same as a NumPy array, but it has CUDA / GPU capabilities when a GPU is available.\n",
        "# We can easily convert back and forth between Tensors and arrays without deep copying\n",
        "\n",
        "# The following creates a 2d tensor with 6 rows and 3 columns, filled in with random\n",
        "# values from a normal distribution of mean 0 and variance 1.\n",
        "w = torch.randn(6, 3)\n",
        "print('First tensor: w')\n",
        "print(w)"
      ],
      "execution_count": 2,
      "outputs": [
        {
          "output_type": "stream",
          "text": [
            "First tensor: w\n",
            "tensor([[-0.6433,  1.2378, -0.7605],\n",
            "        [-0.2468, -0.5570, -0.3981],\n",
            "        [-0.8080, -0.2385, -0.0565],\n",
            "        [-0.3447,  0.2736,  1.8325],\n",
            "        [ 1.3541,  0.2230, -0.6426],\n",
            "        [-1.2298,  0.0408, -1.2793]])\n"
          ],
          "name": "stdout"
        }
      ]
    },
    {
      "cell_type": "code",
      "metadata": {
        "colab": {
          "base_uri": "https://localhost:8080/"
        },
        "id": "d4HdIinKZNlo",
        "outputId": "5d466d03-d1e3-4c54-f4c9-ae8ddd67a44f"
      },
      "source": [
        "# Like NumPy arrays, tensors can be sliced and this occurs without deep copying\n",
        "x = w[2:4, 0:2]\n",
        "print('Sliced verson of w is x:')\n",
        "print(x)\n",
        "x[0,1] = 20\n",
        "print('We changed x[0,1] to', x[0,1], 'and now w[2,1] is also', w[2,1])\n",
        "print(\"w is now\\n\", w)"
      ],
      "execution_count": 3,
      "outputs": [
        {
          "output_type": "stream",
          "text": [
            "Sliced verson of w is x:\n",
            "tensor([[-0.8080, -0.2385],\n",
            "        [-0.3447,  0.2736]])\n",
            "We changed x[0,1] to tensor(20.) and now w[2,1] is also tensor(20.)\n",
            "w is now\n",
            " tensor([[-0.6433,  1.2378, -0.7605],\n",
            "        [-0.2468, -0.5570, -0.3981],\n",
            "        [-0.8080, 20.0000, -0.0565],\n",
            "        [-0.3447,  0.2736,  1.8325],\n",
            "        [ 1.3541,  0.2230, -0.6426],\n",
            "        [-1.2298,  0.0408, -1.2793]])\n"
          ],
          "name": "stdout"
        }
      ]
    },
    {
      "cell_type": "code",
      "metadata": {
        "colab": {
          "base_uri": "https://localhost:8080/"
        },
        "id": "IzsR0ULVZNlo",
        "outputId": "db885114-a0a6-491b-b2d5-591fe40c9129"
      },
      "source": [
        "#  Create a row vector and then do component-wise multiplication\n",
        "u = torch.randn(3)\n",
        "print('u', u)\n",
        "print('3-component vector as a tensor:', u)\n",
        "print('Component-wise multiplication, with broadcasting')\n",
        "print(w*u)"
      ],
      "execution_count": 4,
      "outputs": [
        {
          "output_type": "stream",
          "text": [
            "u tensor([0.2441, 0.9981, 0.7786])\n",
            "3-component vector as a tensor: tensor([0.2441, 0.9981, 0.7786])\n",
            "Component-wise multiplication, with broadcasting\n",
            "tensor([[-0.1570,  1.2354, -0.5922],\n",
            "        [-0.0602, -0.5559, -0.3100],\n",
            "        [-0.1972, 19.9622, -0.0440],\n",
            "        [-0.0841,  0.2731,  1.4268],\n",
            "        [ 0.3305,  0.2226, -0.5004],\n",
            "        [-0.3002,  0.0407, -0.9961]])\n"
          ],
          "name": "stdout"
        }
      ]
    },
    {
      "cell_type": "code",
      "metadata": {
        "colab": {
          "base_uri": "https://localhost:8080/"
        },
        "id": "lQyzqipQZNlo",
        "outputId": "38aaa875-e73c-49b6-8158-58176efccc3f"
      },
      "source": [
        "#  Now create a 3x1 tensor--- essentially a column vector --- and do\n",
        "#  matrix multiplication\n",
        "u = torch.randn(3, 1)\n",
        "print('u', u)\n",
        "print(torch.mm(w,u))"
      ],
      "execution_count": 5,
      "outputs": [
        {
          "output_type": "stream",
          "text": [
            "u tensor([[-0.8142],\n",
            "        [ 0.5081],\n",
            "        [-0.6996]])\n",
            "tensor([[ 1.6848],\n",
            "        [ 0.1965],\n",
            "        [10.8591],\n",
            "        [-0.8624],\n",
            "        [-0.5396],\n",
            "        [ 1.9171]])\n"
          ],
          "name": "stdout"
        }
      ]
    },
    {
      "cell_type": "code",
      "metadata": {
        "colab": {
          "base_uri": "https://localhost:8080/"
        },
        "id": "_8Z7YTI7ZNlo",
        "outputId": "a867b2c4-cfbf-4c0b-e925-ddaeec13b022"
      },
      "source": [
        "#  Many of the methods you'd expect for NumPy arrays exist for PyTorch tensors.  See\n",
        "#  extensive documentation at http://pytorch.org/docs/master/torch.html#tensors\n",
        "\n",
        "# We can go back and forth between NumPy arrays and PyTorch tensors\n",
        "# through shallow copies\n",
        "a = u.numpy()\n",
        "print('a is the numpy version of u:\\n', a)\n",
        "b = torch.from_numpy(a)\n",
        "c = torch.Tensor(b)\n",
        "print('b and c are back to pytorch:', b)\n",
        "a[0,0] = 5\n",
        "print('We changed a[0,0] and this changes b and c as well:')\n",
        "print('b[0,0] =', b[0,0], 'and c[0,0] =', c[0,0])"
      ],
      "execution_count": 6,
      "outputs": [
        {
          "output_type": "stream",
          "text": [
            "a is the numpy version of u:\n",
            " [[-0.81423676]\n",
            " [ 0.508085  ]\n",
            " [-0.6996436 ]]\n",
            "b and c are back to pytorch: tensor([[-0.8142],\n",
            "        [ 0.5081],\n",
            "        [-0.6996]])\n",
            "We changed a[0,0] and this changes b and c as well:\n",
            "b[0,0] = tensor(5.) and c[0,0] = tensor(5.)\n"
          ],
          "name": "stdout"
        }
      ]
    },
    {
      "cell_type": "code",
      "metadata": {
        "colab": {
          "base_uri": "https://localhost:8080/"
        },
        "id": "6YJptKjhZNlp",
        "outputId": "bbbc62b0-c3cb-455a-9d15-d817c72d622d"
      },
      "source": [
        "# So why create a separate class for tensors when they seem to have\n",
        "# the same attributes as as NumPy arrays?  There are two answers.\n",
        "\n",
        "# First, tensors are designed to work with CUDA when a GPU is available,\n",
        "# but this is transparent to the rest of the code.  Here is one way to \n",
        "# handle this, which is enough for now, but there are others in the PyTorch\n",
        "# library.\n",
        "if torch.cuda.is_available():\n",
        "    print(\"Converting w and b to GPU\")\n",
        "    w = w.to(\"cuda\")\n",
        "    b = b.to(\"cuda\")\n",
        "\n",
        "c = torch.mm(w,b)\n",
        "print('Tensor c is\\n', c)  # Proceeds whether on CPU or GPU"
      ],
      "execution_count": 7,
      "outputs": [
        {
          "output_type": "stream",
          "text": [
            "Tensor c is\n",
            " tensor([[-2.0557],\n",
            "        [-1.2384],\n",
            "        [ 6.1613],\n",
            "        [-2.8664],\n",
            "        [ 7.3336],\n",
            "        [-5.2331]])\n"
          ],
          "name": "stdout"
        }
      ]
    },
    {
      "cell_type": "markdown",
      "metadata": {
        "id": "UBsOZMIuZNlp"
      },
      "source": [
        "### PyTorch Variables\n",
        "The second reason for PyTorch tensors is that they are designed to work with our second\n",
        "major PyTorch construct:  Variables.  A Variable has three major attributes:\n",
        "1. data --- A PyTorch tensor.   \n",
        "2. grad --- The gradient tensor of the variable with respect to the final cost function it is used in\n",
        "3. creator - The link to the function the Variable is created from.  More on this below"
      ]
    },
    {
      "cell_type": "code",
      "metadata": {
        "colab": {
          "base_uri": "https://localhost:8080/"
        },
        "id": "E8Grk8H2ZNlp",
        "outputId": "c961e12d-6a4a-4b0d-bf93-a08bf01331c3"
      },
      "source": [
        "print('Reminding ourselves:  w=\\n', w)\n"
      ],
      "execution_count": 8,
      "outputs": [
        {
          "output_type": "stream",
          "text": [
            "Reminding ourselves:  w=\n",
            " tensor([[-0.6433,  1.2378, -0.7605],\n",
            "        [-0.2468, -0.5570, -0.3981],\n",
            "        [-0.8080, 20.0000, -0.0565],\n",
            "        [-0.3447,  0.2736,  1.8325],\n",
            "        [ 1.3541,  0.2230, -0.6426],\n",
            "        [-1.2298,  0.0408, -1.2793]])\n"
          ],
          "name": "stdout"
        }
      ]
    },
    {
      "cell_type": "code",
      "metadata": {
        "colab": {
          "base_uri": "https://localhost:8080/"
        },
        "id": "25Ns8TV0ZNlp",
        "outputId": "a50a505f-fab5-4d65-8ab7-b9939953d4a7"
      },
      "source": [
        "# Now create a variable from w, telling the constructor that we want\n",
        "# to be able to compute gradients on this variable.\n",
        "wv = Variable(w, requires_grad=True)\n",
        "print(\"wv=\\n\", wv)\n",
        "print('wv.data =\\n', wv.data)\n",
        "print('Slicing works on variables:\\n', wv[2:4,1:3])"
      ],
      "execution_count": 9,
      "outputs": [
        {
          "output_type": "stream",
          "text": [
            "wv=\n",
            " tensor([[-0.6433,  1.2378, -0.7605],\n",
            "        [-0.2468, -0.5570, -0.3981],\n",
            "        [-0.8080, 20.0000, -0.0565],\n",
            "        [-0.3447,  0.2736,  1.8325],\n",
            "        [ 1.3541,  0.2230, -0.6426],\n",
            "        [-1.2298,  0.0408, -1.2793]], requires_grad=True)\n",
            "wv.data =\n",
            " tensor([[-0.6433,  1.2378, -0.7605],\n",
            "        [-0.2468, -0.5570, -0.3981],\n",
            "        [-0.8080, 20.0000, -0.0565],\n",
            "        [-0.3447,  0.2736,  1.8325],\n",
            "        [ 1.3541,  0.2230, -0.6426],\n",
            "        [-1.2298,  0.0408, -1.2793]])\n",
            "Slicing works on variables:\n",
            " tensor([[20.0000, -0.0565],\n",
            "        [ 0.2736,  1.8325]], grad_fn=<SliceBackward>)\n"
          ],
          "name": "stdout"
        }
      ]
    },
    {
      "cell_type": "code",
      "metadata": {
        "colab": {
          "base_uri": "https://localhost:8080/"
        },
        "id": "TI6HKeRBZNlq",
        "outputId": "4d245cc9-b36b-4e57-b68f-8257c45b743e"
      },
      "source": [
        "#  Next create a simple cost function\n",
        "cost = torch.mean(wv * wv)  # Cost is the square magnitude of the elements of the matrix\n",
        "print('cost is', cost)"
      ],
      "execution_count": 10,
      "outputs": [
        {
          "output_type": "stream",
          "text": [
            "cost is tensor(22.9283, grad_fn=<MeanBackward0>)\n"
          ],
          "name": "stdout"
        }
      ]
    },
    {
      "cell_type": "markdown",
      "metadata": {
        "id": "qKzX_RVgZNlq"
      },
      "source": [
        "#### Now comes the gradient!\n",
        "By calling the method *backward*, we backpropagate the gradient through the computation used to create the cost function value.  In this simple case, we are computing the gradient with respect to the terms of our our small $m \\times n$ ($ 6 \\times 3$) 2d tensor.  The result should be another 2d tensor whose values are $\\frac{2}{m n} w[i,j]$. When we ask for the values of the gradient we get exactly what we predicted.  For example, the 2,2 entry in the gradient, corresponding to the value 20 in wv, is $2/18\\times 20$ as the following shows:"
      ]
    },
    {
      "cell_type": "code",
      "metadata": {
        "colab": {
          "base_uri": "https://localhost:8080/"
        },
        "id": "iQfkwd6PZNlq",
        "outputId": "3c231a2e-a70e-4b65-ee24-d4587f63a024"
      },
      "source": [
        "cost.backward()\n",
        "print('wv.grad=\\n', wv.grad)"
      ],
      "execution_count": 11,
      "outputs": [
        {
          "output_type": "stream",
          "text": [
            "wv.grad=\n",
            " tensor([[-0.0715,  0.1375, -0.0845],\n",
            "        [-0.0274, -0.0619, -0.0442],\n",
            "        [-0.0898,  2.2222, -0.0063],\n",
            "        [-0.0383,  0.0304,  0.2036],\n",
            "        [ 0.1505,  0.0248, -0.0714],\n",
            "        [-0.1366,  0.0045, -0.1421]])\n"
          ],
          "name": "stdout"
        }
      ]
    },
    {
      "cell_type": "markdown",
      "metadata": {
        "id": "arYjKj4gZNlq"
      },
      "source": [
        "One note about the calculation of the gradient through the call to the backward method is that by default PyTorch releases intermediate buffers for the gradient computation at the end of the backward calculation through the graph.  If you run the previous step a second time - without going further up and redefining the cost function - you will get a run-time error. We can demonstrate this by just rerunning the cell."
      ]
    },
    {
      "cell_type": "markdown",
      "metadata": {
        "id": "4xf80C5jZNlq"
      },
      "source": [
        "###  Creator / grad_fn\n",
        "\n",
        "In order to briefly discuss the creator function, we take this further in the following example by combining several variables, similar to the computation in a fully connected layer of a neural network.  This combination can be thought of as a simple graph where the root is the cost function, each node in the middle is the result of an intermediate function, and our leaves are the initial variables we are interested in. The nodes have grad_fn that point back to the previous nodes (or leaves) combined to create them.  Leaves have no grad_fn.\n",
        "\n",
        "The print statements from the following only show these grad_fn values, but if you wish you can add print statements to calculate the gradients.\n"
      ]
    },
    {
      "cell_type": "code",
      "metadata": {
        "colab": {
          "base_uri": "https://localhost:8080/"
        },
        "id": "5DDNuJSdZNlq",
        "outputId": "29011023-63e2-4006-9b8a-4a3d023a84b2"
      },
      "source": [
        "av = Variable(torch.randn(3, 1), requires_grad=True)\n",
        "bv = Variable(torch.randn(6, 1), requires_grad=True)\n",
        "if torch.cuda.is_available():\n",
        "    av = av.to(\"cuda\")\n",
        "    bv = bv.to(\"cuda\") \n",
        "mult = torch.mm(wv, av) + bv\n",
        "cost = torch.mean(mult)\n",
        "cost.backward()\n",
        "print('cost.grad_fn:', cost.grad_fn)\n",
        "print('mult.grad_fn:', mult.grad_fn)\n",
        "print('av.grad_fn:', av.grad_fn)\n",
        "print('bv.grad_fn:', bv.grad_fn)\n",
        "print('wv.grad_fn:', wv.grad_fn)\n",
        "print('av.grad:\\n', av.grad)\n",
        "print('bv.grad:\\n', bv.grad)\n",
        "print('wv.grad:\\n', wv.grad)"
      ],
      "execution_count": 19,
      "outputs": [
        {
          "output_type": "stream",
          "text": [
            "cost.grad_fn: <MeanBackward0 object at 0x7f4e88a16610>\n",
            "mult.grad_fn: <AddBackward0 object at 0x7f4e88a16190>\n",
            "av.grad_fn: None\n",
            "bv.grad_fn: None\n",
            "wv.grad_fn: None\n",
            "av.grad:\n",
            " tensor([[-0.3197],\n",
            "        [ 3.5364],\n",
            "        [-0.2174]])\n",
            "bv.grad:\n",
            " tensor([[0.1667],\n",
            "        [0.1667],\n",
            "        [0.1667],\n",
            "        [0.1667],\n",
            "        [0.1667],\n",
            "        [0.1667]])\n",
            "wv.grad:\n",
            " tensor([[ 0.2570,  0.3056, -0.0590],\n",
            "        [ 0.3011,  0.1062, -0.0188],\n",
            "        [ 0.2387,  2.3903,  0.0192],\n",
            "        [ 0.2902,  0.1985,  0.2291],\n",
            "        [ 0.4790,  0.1928, -0.0459],\n",
            "        [ 0.1919,  0.1726, -0.1167]])\n"
          ],
          "name": "stdout"
        }
      ]
    },
    {
      "cell_type": "markdown",
      "metadata": {
        "id": "m-ZwDYN0ZNlr"
      },
      "source": [
        "### Neural Networks in PyTorch\n",
        "Using Variables and the build up of functions between them, we can create neural network by hand.  Doing so is a good exercise in understanding the basics of PyTorch and if you are going to do significant work in neural networks I recommend that you do so.  For our purposes, however, we are going to switch gears to the higher-level capabilities in PyTorch for defining an using neural networks from standard components.\n",
        "\n",
        "Before getting started, we return to our hypersphere classification problem, and generate the data we will actually use to train, validate and test our neural network."
      ]
    },
    {
      "cell_type": "code",
      "metadata": {
        "colab": {
          "base_uri": "https://localhost:8080/"
        },
        "id": "dtqOYY4MZNlr",
        "outputId": "6128183c-6188-4e06-a2b9-b48d18b9f58e"
      },
      "source": [
        "#  The points, the center location and the dimensions of the \n",
        "#  internal hypersphere and the external disk.\n",
        "point_dim = 4\n",
        "center = 10*np.random.randn(point_dim)\n",
        "r_min, r_max = 4, 8\n",
        "\n",
        "def generate_and_convert(n, center, r_min, r_max, debug=True, name=''):\n",
        "    '''\n",
        "    Generate the data for the interior and exterior points and convert\n",
        "    to PyTorch variables.\n",
        "    '''\n",
        "    X, Y = gen_points_nested_spheres( n, center, r_min, r_max, debug)\n",
        "    X, Y = Variable(torch.Tensor(X)), Variable(torch.Tensor(Y))\n",
        "    if debug:\n",
        "        print('generate_and_convert for', name, ' X size', X.size(), ' Y size', Y.size())\n",
        "    if torch.cuda.is_available():\n",
        "        X = X.to(\"cuda\")\n",
        "        Y = Y.to(\"cuda\")\n",
        "    return X, Y\n",
        "\n",
        "n_train, n_valid, n_test = 1000, 128, 128\n",
        "X_train, Y_train = generate_and_convert(n_train, center, r_min, r_max, debug=True, name='Train')\n",
        "X_valid, Y_valid = generate_and_convert(n_valid, center, r_min, r_max, debug=True, name='Valid')\n",
        "X_test, Y_test = generate_and_convert(n_test, center, r_min, r_max, debug=True, name='Valid')\n",
        "\n"
      ],
      "execution_count": 13,
      "outputs": [
        {
          "output_type": "stream",
          "text": [
            "Generated points in array of dimension (1000, 4)\n",
            "Binary labels are in a second array of dimension (1000, 2)\n",
            "generate_and_convert for Train  X size torch.Size([1000, 4])  Y size torch.Size([1000, 2])\n",
            "Generated points in array of dimension (128, 4)\n",
            "Binary labels are in a second array of dimension (128, 2)\n",
            "generate_and_convert for Valid  X size torch.Size([128, 4])  Y size torch.Size([128, 2])\n",
            "Generated points in array of dimension (128, 4)\n",
            "Binary labels are in a second array of dimension (128, 2)\n",
            "generate_and_convert for Valid  X size torch.Size([128, 4])  Y size torch.Size([128, 2])\n"
          ],
          "name": "stdout"
        }
      ]
    },
    {
      "cell_type": "markdown",
      "metadata": {
        "id": "a82xFdlvZNlr"
      },
      "source": [
        "### Defining a simple fully connected network\n",
        "\n",
        "The cell below shows the definition of a neural network with two hidden layers of 15 nodes each.\n",
        "It is defined as a subclass of the nn.Module class, so the first step in the initializer is to call the initializer for the base class.\n",
        "The initializer for our new class creates the layers --- each fully-connected --- but does not hook them together.  This is done in the forward function.\n",
        "You will also notice that there is no definition of the backward function, even though it is used.\n",
        "This function is created in the base class based on the result of the forward function."
      ]
    },
    {
      "cell_type": "code",
      "metadata": {
        "colab": {
          "base_uri": "https://localhost:8080/"
        },
        "id": "lAwciNPlZNlr",
        "outputId": "3a978754-40c9-4db8-d00d-614fdd2ba3b3"
      },
      "source": [
        "import torch.nn as nn\n",
        "import torch.nn.functional as F\n",
        "\n",
        "N0 = point_dim\n",
        "N1 = 15\n",
        "N2 = 15\n",
        "Nout = 2  \n",
        "\n",
        "class Net(nn.Module):\n",
        "\n",
        "    def __init__(self):\n",
        "        super(Net, self).__init__()\n",
        "\n",
        "        # Create three fully connected layers, two of which are hidden and the third is\n",
        "        # the output layer.  In each case, the first argument to Linear is the number\n",
        "        # of input values from the previous layer, and the second argument is the number\n",
        "        # of nodes in this layer.  The call to the Linear initializer creates a PyTorch\n",
        "        # functional that in turn adds a weight matrix and a bias vector to the list of\n",
        "        # (learnable) parameters stored with each Net object.  These weight matrices\n",
        "        # and bias vectors are implicitly initialized using a uniform random distribution,\n",
        "        # in the range [-1/sqrt(k), 1/sqrt(k)] where k is the number of units at the\n",
        "        # previous layer.\n",
        "        self.fc1 = nn.Linear(N0, N1, bias=True)\n",
        "        self.fc2 = nn.Linear(N1, N2, bias=True)\n",
        "        self.fc3 = nn.Linear(N2, Nout, bias=True)\n",
        "\n",
        "    def forward(self, x):\n",
        "        #  The forward method takes an input Variable and creates a chain of Variables\n",
        "        #  from the layers of the network defined in the initializer. The F.relu is\n",
        "        #  a functional implementing the Rectified Linear activation function.\n",
        "        #  Notice that the output layer does not include the activation function.\n",
        "        #  As we will see, that is combined into the criterion for the loss function.\n",
        "        x = F.relu(self.fc1(x))\n",
        "        x = F.relu(self.fc2(x))\n",
        "        x = self.fc3(x)\n",
        "        return x\n",
        "\n",
        "#  Create an instance of this network.\n",
        "net = Net()\n",
        "if torch.cuda.is_available():\n",
        "    net = net.to(\"cuda\")\n",
        "\n",
        "#  Define the Mean Squared error loss function as the criterion for this network's training\n",
        "criterion = nn.MSELoss()\n",
        "\n",
        "#  Print a summary of the network.  Notice that this only shows the layers\n",
        "print(net)\n",
        "\n",
        "#  Print a list of the parameter sizes\n",
        "params = list(net.parameters())\n",
        "print(params[0].size()) # The parameter holding the layer 1 weight matrix\n",
        "print(params[1].size()) # ... the layer 1 bias vector\n",
        "print(params[2].size()) # ... the layer 2 weight matrix\n",
        "print(params[3].size()) # ... the layer 2 bias vector\n",
        "print(params[4].size()) # ... the layer 3 weight vector\n",
        "print(params[5].size()) # ... the layer 3 bias vector\n",
        "\n",
        "print(params[0])\n",
        "print(params[1])"
      ],
      "execution_count": 14,
      "outputs": [
        {
          "output_type": "stream",
          "text": [
            "Net(\n",
            "  (fc1): Linear(in_features=4, out_features=15, bias=True)\n",
            "  (fc2): Linear(in_features=15, out_features=15, bias=True)\n",
            "  (fc3): Linear(in_features=15, out_features=2, bias=True)\n",
            ")\n",
            "torch.Size([15, 4])\n",
            "torch.Size([15])\n",
            "torch.Size([15, 15])\n",
            "torch.Size([15])\n",
            "torch.Size([2, 15])\n",
            "torch.Size([2])\n",
            "Parameter containing:\n",
            "tensor([[ 0.3239,  0.1502,  0.1813,  0.1629],\n",
            "        [ 0.2027, -0.2124,  0.1469, -0.0763],\n",
            "        [-0.3688,  0.1415, -0.2200, -0.3335],\n",
            "        [-0.0412,  0.4222, -0.0024,  0.3027],\n",
            "        [-0.3643,  0.0585,  0.3595,  0.2901],\n",
            "        [ 0.0778, -0.0220,  0.0201, -0.4584],\n",
            "        [ 0.2003,  0.2994, -0.1394,  0.4877],\n",
            "        [-0.2774, -0.1958,  0.3250,  0.0018],\n",
            "        [-0.1858, -0.0084,  0.4248,  0.1034],\n",
            "        [-0.2810,  0.3100,  0.2467, -0.4098],\n",
            "        [-0.3380,  0.2827,  0.4946,  0.3593],\n",
            "        [ 0.3303,  0.0813,  0.0772, -0.0667],\n",
            "        [ 0.3712, -0.1940, -0.0283,  0.3582],\n",
            "        [-0.4655, -0.0830, -0.0457, -0.1997],\n",
            "        [-0.1843,  0.0436,  0.0383, -0.1539]], requires_grad=True)\n",
            "Parameter containing:\n",
            "tensor([-0.2514,  0.4347, -0.0863, -0.1806, -0.0770,  0.3819, -0.3178,  0.0529,\n",
            "        -0.0631, -0.4025, -0.1524, -0.4522,  0.2272,  0.0500,  0.3143],\n",
            "       requires_grad=True)\n"
          ],
          "name": "stdout"
        }
      ]
    },
    {
      "cell_type": "markdown",
      "metadata": {
        "id": "rAkpZKTEZNls"
      },
      "source": [
        "####  Training the network\n",
        "\n",
        "Now we can write our own training function using a form of stochastic gradient descent. "
      ]
    },
    {
      "cell_type": "code",
      "metadata": {
        "colab": {
          "base_uri": "https://localhost:8080/"
        },
        "id": "bXnWlEc1ZNls",
        "outputId": "b092030f-dcc2-411e-bb83-3263a4be19b4"
      },
      "source": [
        "#  Set parameters to control the process\n",
        "epochs = 1000\n",
        "batch_size = 16\n",
        "n_batches = int(np.ceil(n_train / batch_size))\n",
        "learning_rate = 1e-4\n",
        "\n",
        "#  Compute an initial loss using all of the validation data.\n",
        "#\n",
        "#  A couple of notes are important here:\n",
        "#  (1) X_valid contains all of the validation input, with each validation\n",
        "#      data instance being a row of X_valid\n",
        "#  (2) Therefore, pred_Y_valid is a Variable containing the output layer\n",
        "#      activations for each of the validation inputs.\n",
        "#  (3) This is accomplished through the function call net(X_valid), which in\n",
        "#      turn calls the forward method under the hood to figure out the flow of\n",
        "#      the data and activations in the network.\n",
        "print(X_valid)\n",
        "pred_Y_valid = net(X_valid)\n",
        "valid_loss = criterion(pred_Y_valid, Y_valid)\n",
        "print(\"Initial loss: %.5f\" % valid_loss.item())\n",
        "\n",
        "for ep in range(epochs):\n",
        "    #  Create a random permutation of the indices of the row vectors.\n",
        "    indices = torch.randperm(n_train)\n",
        "    \n",
        "    #  Run through each mini-batch\n",
        "    for b in range(n_batches):\n",
        "        #  Use slicing (of the pytorch Variable) to extract the\n",
        "        #  indices and then the data instances for the next mini-batch\n",
        "        batch_indices = indices[b*batch_size: (b+1)*batch_size]\n",
        "        batch_X = X_train[batch_indices]\n",
        "        batch_Y = Y_train[batch_indices]\n",
        "        \n",
        "        #  Run the network on each data instance in the minibatch\n",
        "        #  and then compute the object function value\n",
        "        pred_Y = net(batch_X)\n",
        "        loss = criterion(pred_Y, batch_Y)\n",
        "        \n",
        "        #  Back-propagate the gradient through the network using the\n",
        "        #  implicitly defined backward function, but zero out the\n",
        "        #  gradient first.\n",
        "        net.zero_grad()\n",
        "        loss.backward()\n",
        "\n",
        "        #  Complete the mini-batch by actually updating the parameters.\n",
        "        for param in net.parameters():\n",
        "            param.data -= learning_rate * param.grad.data\n",
        "            \n",
        "    #  Print validation loss every 10 epochs\n",
        "    if ep != 0 and ep%10 == 0:\n",
        "        pred_Y_valid = net(X_valid)\n",
        "        valid_loss = criterion(pred_Y_valid, Y_valid)\n",
        "        print(\"Epoch %d loss: %.5f\" %(ep, valid_loss.item()))\n",
        "\n",
        "#  Compute and print the final training and test loss\n",
        "#  function values\n",
        "pred_Y_train = net(X_train)\n",
        "loss = criterion(pred_Y_train, Y_train)\n",
        "print('Final training loss is %.5f' %loss.item())\n",
        "\n",
        "pred_Y_test = net(X_test)\n",
        "test_loss = criterion(pred_Y_test, Y_test)\n",
        "print(\"Final test loss: %.5f\" % test_loss.item())\n"
      ],
      "execution_count": 15,
      "outputs": [
        {
          "output_type": "stream",
          "text": [
            "tensor([[ 4.2145e+00, -9.3042e+00,  3.3114e-01,  1.6476e+00],\n",
            "        [ 3.9051e+00, -8.4209e+00,  1.1095e+00, -2.8127e-01],\n",
            "        [ 1.1302e+00, -8.7924e+00, -1.7168e-01,  1.0972e+00],\n",
            "        [ 3.5849e+00, -8.3016e+00,  1.4794e+00, -3.0387e-01],\n",
            "        [ 3.5889e+00, -7.4530e+00,  2.0948e+00, -4.4369e-01],\n",
            "        [ 2.9404e+00, -7.1914e+00,  6.4797e-01,  7.0034e-02],\n",
            "        [ 3.1755e+00, -8.6474e+00,  1.1205e+00, -1.8142e-01],\n",
            "        [ 3.4502e+00, -8.3558e+00,  1.4669e+00, -4.9206e-01],\n",
            "        [ 4.0135e+00, -9.3808e+00,  1.5809e+00, -1.2933e+00],\n",
            "        [ 4.0477e+00, -9.1563e+00,  9.7955e-03,  8.3361e-01],\n",
            "        [ 1.6878e+00, -1.1169e+01, -1.9228e-01, -1.4984e-01],\n",
            "        [ 4.5837e+00, -9.3113e+00,  2.5631e-01,  1.5913e-01],\n",
            "        [ 2.1086e+00, -9.6220e+00,  4.3191e-01, -2.2938e+00],\n",
            "        [ 3.9068e+00, -8.0055e+00,  1.7102e+00, -3.4386e-01],\n",
            "        [ 3.6738e+00, -7.7041e+00,  2.2408e+00, -1.3280e+00],\n",
            "        [ 3.6078e+00, -8.3329e+00,  1.5240e+00, -2.9019e-01],\n",
            "        [ 3.5637e+00, -8.2012e+00,  1.9822e+00, -8.1275e-01],\n",
            "        [ 8.3825e-01, -1.0881e+01,  2.1591e+00, -5.9187e-01],\n",
            "        [ 4.1263e+00, -7.3450e+00,  1.3557e+00, -2.2233e-01],\n",
            "        [ 2.9892e+00, -8.3175e+00, -1.7454e-01, -1.4835e+00],\n",
            "        [ 3.2899e+00, -8.3787e+00,  1.3852e+00, -6.9276e-01],\n",
            "        [ 4.2607e+00, -8.9355e+00,  1.9643e+00, -5.6244e-01],\n",
            "        [ 2.5270e+00, -7.7650e+00, -9.1227e-01, -9.5793e-01],\n",
            "        [ 3.5373e+00, -6.4639e+00, -4.6326e-01, -2.0964e+00],\n",
            "        [ 2.8014e+00, -8.5262e+00,  9.2541e-01,  1.4200e-01],\n",
            "        [ 3.7190e+00, -7.8072e+00,  2.3494e+00,  1.2284e-01],\n",
            "        [ 2.1347e+00, -7.7715e+00,  1.3381e+00, -4.1284e-01],\n",
            "        [ 4.4837e+00, -6.2956e+00,  5.2672e-03, -1.1676e+00],\n",
            "        [ 3.5973e+00, -8.5219e+00,  1.4317e+00, -6.0381e-01],\n",
            "        [ 2.0619e+00, -6.4972e+00, -2.4222e-01,  1.3194e+00],\n",
            "        [ 3.3429e+00, -8.8320e+00,  9.6394e-01, -1.0630e+00],\n",
            "        [ 3.4952e+00, -8.1108e+00,  1.5257e+00, -1.9475e-01],\n",
            "        [ 3.9764e+00, -7.4492e+00,  2.1376e+00,  6.9781e-01],\n",
            "        [ 3.4224e+00, -9.1588e+00,  8.9693e-01, -5.6232e-01],\n",
            "        [ 4.0256e+00, -7.6397e+00,  1.3658e+00, -8.0444e-01],\n",
            "        [ 1.7323e+00, -8.8345e+00,  3.3741e+00,  4.7577e-01],\n",
            "        [ 3.8816e+00, -7.8197e+00,  2.4836e+00,  1.3143e+00],\n",
            "        [ 3.5958e+00, -8.2796e+00,  1.4494e+00, -3.1628e-01],\n",
            "        [ 1.8761e+00, -6.3246e+00,  4.6998e-01,  1.5650e+00],\n",
            "        [ 3.4392e+00, -8.3556e+00,  9.7351e-01,  1.2479e+00],\n",
            "        [ 1.5427e+00, -9.8385e+00,  2.3998e+00, -5.7220e-01],\n",
            "        [ 4.3562e+00, -8.1946e+00,  2.1234e+00,  8.6246e-01],\n",
            "        [ 2.3898e+00, -7.0139e+00,  1.4654e+00, -2.0445e+00],\n",
            "        [ 4.1979e+00, -8.8555e+00,  1.9468e+00, -6.7092e-01],\n",
            "        [ 4.8099e+00, -5.1506e+00,  2.6098e+00, -1.9218e+00],\n",
            "        [ 3.4152e+00, -7.0773e+00,  2.3866e+00, -8.1772e-03],\n",
            "        [ 2.7012e+00, -8.3876e+00,  6.9654e-01, -1.3220e+00],\n",
            "        [ 2.5507e+00, -9.1115e+00, -8.4038e-01, -8.6241e-01],\n",
            "        [ 5.0877e+00, -7.0805e+00,  3.7701e+00,  1.9564e+00],\n",
            "        [ 2.4881e+00, -9.2071e+00,  4.6558e-01, -8.2105e-01],\n",
            "        [ 3.6669e+00, -8.2719e+00,  1.5686e+00, -3.3228e-01],\n",
            "        [ 3.3399e+00, -7.5664e+00,  3.9616e+00,  2.1988e+00],\n",
            "        [ 4.6445e+00, -1.0452e+01,  2.6658e+00,  7.3222e-01],\n",
            "        [ 4.5182e+00, -7.3118e+00,  3.2019e-01, -3.2551e-02],\n",
            "        [ 3.6665e+00, -8.1902e+00,  1.6259e+00, -4.9079e-01],\n",
            "        [ 3.9168e+00, -1.1416e+01,  3.0270e+00, -2.0936e+00],\n",
            "        [ 5.4252e+00, -8.4677e+00,  3.7804e+00, -2.3556e+00],\n",
            "        [ 3.1014e+00, -8.3297e+00,  1.4666e+00, -7.2607e-01],\n",
            "        [ 4.0498e+00, -8.0471e+00,  1.3677e+00, -4.2732e-01],\n",
            "        [ 3.5620e+00, -8.3384e+00,  1.5201e+00, -4.7247e-01],\n",
            "        [ 5.1451e+00, -6.0195e+00,  7.0864e-02,  1.1522e+00],\n",
            "        [ 4.3658e+00, -8.2724e+00,  1.7678e+00,  7.0768e-01],\n",
            "        [ 5.9422e+00, -6.0085e+00,  1.8985e+00,  2.1614e-01],\n",
            "        [ 7.3847e-01, -8.1880e+00,  1.1267e-01,  6.5770e-01],\n",
            "        [ 4.9009e+00, -7.3884e+00,  5.6575e+00, -1.8305e+00],\n",
            "        [ 1.8703e+00, -6.3245e+00,  4.5802e+00,  2.5307e+00],\n",
            "        [ 1.1509e+00, -1.1285e+01,  4.7438e+00,  8.9747e-01],\n",
            "        [-8.2684e-01, -5.4901e+00,  5.6157e+00, -4.0047e+00],\n",
            "        [ 4.7664e+00, -1.1613e+01,  9.9422e-02,  2.1051e+00],\n",
            "        [ 8.5449e+00, -9.2000e+00, -3.0838e+00, -1.2538e+00],\n",
            "        [ 6.1682e+00, -8.9649e+00,  2.2108e+00, -4.0360e+00],\n",
            "        [ 4.6258e+00, -1.2262e+01, -2.6135e+00,  3.5036e+00],\n",
            "        [-2.7779e+00, -6.0827e+00,  2.2658e+00, -7.3218e-02],\n",
            "        [ 6.5799e+00, -1.1070e+01,  5.2863e+00, -6.8630e-01],\n",
            "        [-3.7882e-01, -1.1865e+01,  6.1133e+00, -1.6181e-02],\n",
            "        [ 5.3029e+00, -1.1452e+01,  2.4215e+00,  1.2820e+00],\n",
            "        [ 8.2766e+00, -8.8348e+00,  4.0855e+00,  1.5605e-01],\n",
            "        [ 3.1637e+00, -3.9797e+00, -2.4342e+00, -3.3098e+00],\n",
            "        [ 1.0634e+00, -1.1288e+01,  4.7478e+00, -1.0702e+00],\n",
            "        [ 7.0073e+00, -1.1708e+01,  4.0472e+00, -4.6374e+00],\n",
            "        [ 1.5447e+00, -1.0207e+01, -1.9038e+00,  3.0979e+00],\n",
            "        [ 3.3704e+00, -1.0963e+01,  2.1581e+00, -4.9615e+00],\n",
            "        [ 6.4594e-01, -6.3645e+00,  1.8047e-01,  2.8852e+00],\n",
            "        [ 1.3866e+00, -5.0307e+00,  2.7767e+00,  7.3857e-01],\n",
            "        [-1.3246e+00, -1.3867e+01,  4.0879e+00, -1.2330e+00],\n",
            "        [ 5.3863e-01, -9.7388e+00,  2.2948e+00, -2.3506e+00],\n",
            "        [ 1.3994e+00, -6.3799e+00, -8.1007e-01,  3.6835e+00],\n",
            "        [ 3.9319e+00, -9.0870e+00,  2.6287e+00, -4.2237e+00],\n",
            "        [ 4.9039e+00, -6.8309e+00, -8.7160e-01, -7.4473e+00],\n",
            "        [ 5.7280e-02, -1.1332e+01,  4.7838e+00, -3.1158e+00],\n",
            "        [ 1.7750e+00, -1.1582e+01,  3.9793e+00,  1.8203e+00],\n",
            "        [ 9.8163e-01, -7.3085e+00,  4.0969e+00,  8.9983e-01],\n",
            "        [-9.1923e-01, -7.8937e+00,  4.5989e+00,  5.2560e+00],\n",
            "        [ 1.7966e+00, -5.1053e+00, -3.8211e-01,  3.5830e+00],\n",
            "        [ 2.8929e+00, -6.5380e+00,  3.6769e+00,  3.1605e+00],\n",
            "        [ 1.0914e+00, -4.2596e+00, -4.1505e-01, -5.5209e+00],\n",
            "        [ 5.1397e+00, -4.7103e+00,  2.9238e+00,  3.3261e+00],\n",
            "        [ 2.9470e+00, -1.1841e+01, -2.2219e+00, -2.2855e+00],\n",
            "        [ 1.5956e+00, -2.6962e+00,  1.0959e+00,  1.3066e+00],\n",
            "        [ 2.6870e+00, -8.2885e+00,  6.1746e+00,  4.2180e+00],\n",
            "        [ 1.8626e+00, -3.3590e+00, -2.4294e+00, -2.4518e+00],\n",
            "        [-1.2259e+00, -9.1945e+00, -7.7325e-02, -1.0857e+00],\n",
            "        [ 3.7093e+00, -1.4687e+01,  3.8774e+00,  1.4343e+00],\n",
            "        [ 4.3305e+00, -4.4527e-01,  1.5544e+00,  2.9990e-01],\n",
            "        [ 1.4990e+00, -4.4998e+00,  4.4807e+00,  2.5747e+00],\n",
            "        [ 6.0190e+00, -1.2432e+01,  3.7350e+00, -2.3862e+00],\n",
            "        [-1.4536e+00, -1.2448e+01,  5.1536e+00, -2.2252e+00],\n",
            "        [ 5.9484e-01, -1.4139e+01,  2.6759e+00,  3.5107e+00],\n",
            "        [ 3.0775e+00, -1.3891e+01, -5.9362e-02, -1.2179e+00],\n",
            "        [ 3.0932e+00, -4.5262e+00, -1.2932e+00, -1.1709e+00],\n",
            "        [ 2.6751e-01, -1.1987e+01,  1.3313e+00, -7.2004e-01],\n",
            "        [ 5.8132e-01, -1.1489e+01, -4.1820e+00, -1.3689e+00],\n",
            "        [ 3.4693e+00, -1.0945e+01,  4.7024e+00,  4.4053e-01],\n",
            "        [ 2.4166e-01, -7.9853e+00, -3.4588e+00, -4.4372e+00],\n",
            "        [ 7.0027e+00, -1.1672e+01,  6.4376e+00, -2.2220e+00],\n",
            "        [ 5.7947e+00, -1.1680e+01,  4.0910e+00,  1.0834e+00],\n",
            "        [ 1.4176e+00, -4.7465e+00,  4.5541e+00,  7.5298e-01],\n",
            "        [ 2.4455e+00, -8.4749e+00,  2.9064e+00,  3.9846e+00],\n",
            "        [ 4.9703e+00, -9.0875e+00,  4.7005e-01, -3.8800e+00],\n",
            "        [ 1.2218e+00, -8.6963e+00, -2.5687e+00,  1.3306e+00],\n",
            "        [ 4.0691e+00, -6.3947e+00, -1.1206e+00,  3.2677e+00],\n",
            "        [ 6.4437e+00, -3.1327e+00,  4.0935e-01, -3.8363e+00],\n",
            "        [ 2.3600e+00, -1.2545e+01,  2.9572e+00,  3.9270e+00],\n",
            "        [ 2.2557e+00, -3.9418e+00,  2.3741e+00, -4.9688e-02],\n",
            "        [ 6.3111e+00, -5.3282e+00,  2.2706e-01,  1.1529e+00],\n",
            "        [ 3.5857e+00, -5.3357e+00,  4.7094e+00, -5.6453e+00],\n",
            "        [ 8.5449e+00, -1.3346e+01,  6.1176e-01, -2.8835e+00],\n",
            "        [-7.3019e-02, -1.2920e+01,  2.6293e-01, -5.3421e+00]])\n",
            "Initial loss: 1.05943\n",
            "Epoch 10 loss: 0.48426\n",
            "Epoch 20 loss: 0.36521\n",
            "Epoch 30 loss: 0.30661\n",
            "Epoch 40 loss: 0.27320\n",
            "Epoch 50 loss: 0.25487\n",
            "Epoch 60 loss: 0.24470\n",
            "Epoch 70 loss: 0.23844\n",
            "Epoch 80 loss: 0.23405\n",
            "Epoch 90 loss: 0.23043\n",
            "Epoch 100 loss: 0.22720\n",
            "Epoch 110 loss: 0.22432\n",
            "Epoch 120 loss: 0.22175\n",
            "Epoch 130 loss: 0.21945\n",
            "Epoch 140 loss: 0.21735\n",
            "Epoch 150 loss: 0.21540\n",
            "Epoch 160 loss: 0.21352\n",
            "Epoch 170 loss: 0.21172\n",
            "Epoch 180 loss: 0.20999\n",
            "Epoch 190 loss: 0.20832\n",
            "Epoch 200 loss: 0.20668\n",
            "Epoch 210 loss: 0.20510\n",
            "Epoch 220 loss: 0.20357\n",
            "Epoch 230 loss: 0.20210\n",
            "Epoch 240 loss: 0.20067\n",
            "Epoch 250 loss: 0.19931\n",
            "Epoch 260 loss: 0.19802\n",
            "Epoch 270 loss: 0.19676\n",
            "Epoch 280 loss: 0.19551\n",
            "Epoch 290 loss: 0.19429\n",
            "Epoch 300 loss: 0.19309\n",
            "Epoch 310 loss: 0.19192\n",
            "Epoch 320 loss: 0.19077\n",
            "Epoch 330 loss: 0.18961\n",
            "Epoch 340 loss: 0.18848\n",
            "Epoch 350 loss: 0.18736\n",
            "Epoch 360 loss: 0.18625\n",
            "Epoch 370 loss: 0.18513\n",
            "Epoch 380 loss: 0.18405\n",
            "Epoch 390 loss: 0.18299\n",
            "Epoch 400 loss: 0.18195\n",
            "Epoch 410 loss: 0.18096\n",
            "Epoch 420 loss: 0.17999\n",
            "Epoch 430 loss: 0.17905\n",
            "Epoch 440 loss: 0.17813\n",
            "Epoch 450 loss: 0.17722\n",
            "Epoch 460 loss: 0.17633\n",
            "Epoch 470 loss: 0.17547\n",
            "Epoch 480 loss: 0.17461\n",
            "Epoch 490 loss: 0.17376\n",
            "Epoch 500 loss: 0.17292\n",
            "Epoch 510 loss: 0.17212\n",
            "Epoch 520 loss: 0.17133\n",
            "Epoch 530 loss: 0.17057\n",
            "Epoch 540 loss: 0.16982\n",
            "Epoch 550 loss: 0.16906\n",
            "Epoch 560 loss: 0.16832\n",
            "Epoch 570 loss: 0.16758\n",
            "Epoch 580 loss: 0.16686\n",
            "Epoch 590 loss: 0.16613\n",
            "Epoch 600 loss: 0.16543\n",
            "Epoch 610 loss: 0.16473\n",
            "Epoch 620 loss: 0.16405\n",
            "Epoch 630 loss: 0.16335\n",
            "Epoch 640 loss: 0.16268\n",
            "Epoch 650 loss: 0.16201\n",
            "Epoch 660 loss: 0.16136\n",
            "Epoch 670 loss: 0.16073\n",
            "Epoch 680 loss: 0.16011\n",
            "Epoch 690 loss: 0.15952\n",
            "Epoch 700 loss: 0.15889\n",
            "Epoch 710 loss: 0.15830\n",
            "Epoch 720 loss: 0.15772\n",
            "Epoch 730 loss: 0.15711\n",
            "Epoch 740 loss: 0.15656\n",
            "Epoch 750 loss: 0.15599\n",
            "Epoch 760 loss: 0.15545\n",
            "Epoch 770 loss: 0.15493\n",
            "Epoch 780 loss: 0.15435\n",
            "Epoch 790 loss: 0.15380\n",
            "Epoch 800 loss: 0.15331\n",
            "Epoch 810 loss: 0.15278\n",
            "Epoch 820 loss: 0.15229\n",
            "Epoch 830 loss: 0.15179\n",
            "Epoch 840 loss: 0.15132\n",
            "Epoch 850 loss: 0.15088\n",
            "Epoch 860 loss: 0.15041\n",
            "Epoch 870 loss: 0.14996\n",
            "Epoch 880 loss: 0.14952\n",
            "Epoch 890 loss: 0.14909\n",
            "Epoch 900 loss: 0.14868\n",
            "Epoch 910 loss: 0.14825\n",
            "Epoch 920 loss: 0.14785\n",
            "Epoch 930 loss: 0.14746\n",
            "Epoch 940 loss: 0.14709\n",
            "Epoch 950 loss: 0.14673\n",
            "Epoch 960 loss: 0.14640\n",
            "Epoch 970 loss: 0.14605\n",
            "Epoch 980 loss: 0.14576\n",
            "Epoch 990 loss: 0.14542\n",
            "Final training loss is 0.13452\n",
            "Final test loss: 0.13045\n"
          ],
          "name": "stdout"
        }
      ]
    },
    {
      "cell_type": "markdown",
      "metadata": {
        "id": "9jSMJ2qdZNls"
      },
      "source": [
        "### Classification Success Rate\n",
        "\n",
        "The loss function value does not indicate the actual success rate.  In fact the MSE loss can in theory be arbitrarily bad and we could still have perfect classification.  By increasing the size of the training data and the number of epochs we can obtain better and better classification rates."
      ]
    },
    {
      "cell_type": "code",
      "metadata": {
        "colab": {
          "base_uri": "https://localhost:8080/"
        },
        "id": "_DMkP1H_ZNls",
        "outputId": "92c7d4ab-90a7-4fff-a0c5-ab2dc5f09466"
      },
      "source": [
        "def success_rate(pred_Y, Y):\n",
        "    '''\n",
        "    Calculate and return the success rate from the predicted output Y and the\n",
        "    expected output.  There are several issues to deal with.  First, the pred_Y\n",
        "    is non-binary, so the classification decision requires finding which column\n",
        "    index in each row of the prediction has the maximum value.  This is achieved\n",
        "    by using the torch.max() method, which returns both the maximum value and the\n",
        "    index of the maximum value; we want the latter.  We do this along the column,\n",
        "    which we indicate with the parameter 1.  Second, the once we have a 1-d vector\n",
        "    giving the index of the maximum for each of the predicted and target, we just\n",
        "    need to compare and count to get the number that are different.  We could do\n",
        "    using the Variable objects themselves, but it is easier syntactically to do this\n",
        "    using the .data Tensors for obscure PyTorch reasons.\n",
        "    '''\n",
        "    _,pred_Y_index = torch.max(pred_Y, 1)\n",
        "    _,Y_index = torch.max(Y,1)\n",
        "    num_equal = torch.sum(pred_Y_index.data == Y_index.data).item()\n",
        "    num_different = torch.sum(pred_Y_index.data != Y_index.data).item()\n",
        "    rate = num_equal / float(num_equal + num_different)\n",
        "    return rate \n",
        "\n",
        "print('Training success rate:', success_rate(pred_Y_train, Y_train))\n",
        "print('Test success rate:', success_rate(pred_Y_test, Y_test))"
      ],
      "execution_count": 16,
      "outputs": [
        {
          "output_type": "stream",
          "text": [
            "Training success rate: 0.838\n",
            "Test success rate: 0.8203125\n"
          ],
          "name": "stdout"
        }
      ]
    },
    {
      "cell_type": "markdown",
      "metadata": {
        "id": "kfwdqq6XZNls"
      },
      "source": [
        "### Using Cross Entropy, SoftMax and SGD\n",
        "\n",
        "As a final step in our initial learning of PyTorch, we'll examine use of the Cross-entropy loss function along with the softmax.  Then we'll examine use of built-in optimizers, in particular stochastic gradient descent (SGD).  Normally we think of SGD as having mini-batches and permutations associated with it, but that must be done explicitly here.  PyTorch does provide tools to help us, but this tutorial does not dig into them.\n",
        "\n",
        "Unfortunately, SGD requires the target outputs to be categorical indices as rather than binary vectors. For example, the instead of [0., 0., 0., 1., 0., 0., 0., 0., 0., 0.] to represent the digit 3, we just use the value 3. In addition, these must be tensors of longs rather than tensors of doubles.   We could go back and change the code at the very beginning to make both of these corrections, but instead we use properties of PyTorch to make the changes here."
      ]
    },
    {
      "cell_type": "code",
      "metadata": {
        "id": "dBSFFAn1ZNls"
      },
      "source": [
        "def convert_to_categories(Y):\n",
        "    _, categories = torch.max(Y.data, 1)\n",
        "    categories = torch.Tensor.long(categories)\n",
        "    return Variable(categories)\n",
        "\n",
        "Y_test_c = convert_to_categories(Y_test)\n",
        "Y_train_c = convert_to_categories(Y_train)\n",
        "Y_valid_c = convert_to_categories(Y_valid)\n"
      ],
      "execution_count": 17,
      "outputs": []
    },
    {
      "cell_type": "code",
      "metadata": {
        "colab": {
          "base_uri": "https://localhost:8080/"
        },
        "id": "ghDEXqSdZNlt",
        "outputId": "45db7253-fc83-4ecc-e72d-efdbe19857ad"
      },
      "source": [
        "net = Net()\n",
        "if torch.cuda.is_available():\n",
        "    net = net.to(\"cuda\")\n",
        "criterion = nn.CrossEntropyLoss()\n",
        "optimizer = torch.optim.SGD(net.parameters(), lr=1e-4)\n",
        "\n",
        "pred_Y_valid = net(X_valid)\n",
        "valid_loss = criterion(pred_Y_valid, Y_valid_c)\n",
        "print('Initial validation loss: %.5f' % valid_loss.item())\n",
        "\n",
        "num_epochs = 3000\n",
        "for ep in range(num_epochs):\n",
        "    #  Create a random permutation of the indices of the row vectors.\n",
        "    indices = torch.randperm(n_train)\n",
        "    \n",
        "    #  Run through each mini-batch\n",
        "    for b in range(n_batches):\n",
        "        #  Use slicing (of the pytorch Variable) to extract the\n",
        "        #  indices and then the data instances for the next mini-batch\n",
        "        batch_indices = indices[b*batch_size:(b+1)*batch_size]\n",
        "        batch_X = X_train[batch_indices]\n",
        "        batch_Y = Y_train_c[batch_indices]\n",
        "        \n",
        "        #  Run the network on each data instance in the minibatch\n",
        "        #  and then compute the object function value\n",
        "        pred_Y = net(batch_X)\n",
        "        loss = criterion(pred_Y, batch_Y)\n",
        "        \n",
        "        #  Back-propagate the gradient through the network using the\n",
        "        #  implicitly defined backward function, but zero out the\n",
        "        #  gradient first.  The step is made here by the optimizer\n",
        "        optimizer.zero_grad()\n",
        "        loss.backward()\n",
        "        optimizer.step()\n",
        "\n",
        "    pred_Y = net(X_train)\n",
        "    loss = criterion(pred_Y, Y_train_c)\n",
        "    if ep !=0 and ep%10==0:\n",
        "        pred_Y_valid = net(X_valid)\n",
        "        valid_loss = criterion(pred_Y_valid, Y_valid_c)\n",
        "        print(\"Epoch %d loss: %.5f\" %(ep, valid_loss.item()))\n",
        "\n",
        "pred_Y_train = net(X_train)\n",
        "pred_Y_test = net(X_test)\n",
        "print('Training success rate:', success_rate(pred_Y_train, Y_train))\n",
        "print('Test success rate:', success_rate(pred_Y_test, Y_test))"
      ],
      "execution_count": 18,
      "outputs": [
        {
          "output_type": "stream",
          "text": [
            "Initial validation loss: 0.81114\n",
            "Epoch 10 loss: 0.70448\n",
            "Epoch 20 loss: 0.67489\n",
            "Epoch 30 loss: 0.66036\n",
            "Epoch 40 loss: 0.65006\n",
            "Epoch 50 loss: 0.64136\n",
            "Epoch 60 loss: 0.63371\n",
            "Epoch 70 loss: 0.62660\n",
            "Epoch 80 loss: 0.62016\n",
            "Epoch 90 loss: 0.61430\n",
            "Epoch 100 loss: 0.60887\n",
            "Epoch 110 loss: 0.60409\n",
            "Epoch 120 loss: 0.59948\n",
            "Epoch 130 loss: 0.59520\n",
            "Epoch 140 loss: 0.59094\n",
            "Epoch 150 loss: 0.58698\n",
            "Epoch 160 loss: 0.58327\n",
            "Epoch 170 loss: 0.57974\n",
            "Epoch 180 loss: 0.57656\n",
            "Epoch 190 loss: 0.57348\n",
            "Epoch 200 loss: 0.57033\n",
            "Epoch 210 loss: 0.56736\n",
            "Epoch 220 loss: 0.56438\n",
            "Epoch 230 loss: 0.56152\n",
            "Epoch 240 loss: 0.55867\n",
            "Epoch 250 loss: 0.55580\n",
            "Epoch 260 loss: 0.55289\n",
            "Epoch 270 loss: 0.55003\n",
            "Epoch 280 loss: 0.54714\n",
            "Epoch 290 loss: 0.54430\n",
            "Epoch 300 loss: 0.54136\n",
            "Epoch 310 loss: 0.53869\n",
            "Epoch 320 loss: 0.53610\n",
            "Epoch 330 loss: 0.53328\n",
            "Epoch 340 loss: 0.53058\n",
            "Epoch 350 loss: 0.52782\n",
            "Epoch 360 loss: 0.52493\n",
            "Epoch 370 loss: 0.52222\n",
            "Epoch 380 loss: 0.51921\n",
            "Epoch 390 loss: 0.51638\n",
            "Epoch 400 loss: 0.51355\n",
            "Epoch 410 loss: 0.51062\n",
            "Epoch 420 loss: 0.50773\n",
            "Epoch 430 loss: 0.50454\n",
            "Epoch 440 loss: 0.50178\n",
            "Epoch 450 loss: 0.49900\n",
            "Epoch 460 loss: 0.49630\n",
            "Epoch 470 loss: 0.49359\n",
            "Epoch 480 loss: 0.49068\n",
            "Epoch 490 loss: 0.48784\n",
            "Epoch 500 loss: 0.48532\n",
            "Epoch 510 loss: 0.48257\n",
            "Epoch 520 loss: 0.47983\n",
            "Epoch 530 loss: 0.47724\n",
            "Epoch 540 loss: 0.47451\n",
            "Epoch 550 loss: 0.47207\n",
            "Epoch 560 loss: 0.46980\n",
            "Epoch 570 loss: 0.46734\n",
            "Epoch 580 loss: 0.46491\n",
            "Epoch 590 loss: 0.46252\n",
            "Epoch 600 loss: 0.46007\n",
            "Epoch 610 loss: 0.45760\n",
            "Epoch 620 loss: 0.45511\n",
            "Epoch 630 loss: 0.45262\n",
            "Epoch 640 loss: 0.45037\n",
            "Epoch 650 loss: 0.44853\n",
            "Epoch 660 loss: 0.44625\n",
            "Epoch 670 loss: 0.44410\n",
            "Epoch 680 loss: 0.44198\n",
            "Epoch 690 loss: 0.43999\n",
            "Epoch 700 loss: 0.43781\n",
            "Epoch 710 loss: 0.43578\n",
            "Epoch 720 loss: 0.43384\n",
            "Epoch 730 loss: 0.43191\n",
            "Epoch 740 loss: 0.42982\n",
            "Epoch 750 loss: 0.42787\n",
            "Epoch 760 loss: 0.42639\n",
            "Epoch 770 loss: 0.42465\n",
            "Epoch 780 loss: 0.42237\n",
            "Epoch 790 loss: 0.42064\n",
            "Epoch 800 loss: 0.41908\n",
            "Epoch 810 loss: 0.41739\n",
            "Epoch 820 loss: 0.41577\n",
            "Epoch 830 loss: 0.41411\n",
            "Epoch 840 loss: 0.41193\n",
            "Epoch 850 loss: 0.41017\n",
            "Epoch 860 loss: 0.40905\n",
            "Epoch 870 loss: 0.40729\n",
            "Epoch 880 loss: 0.40557\n",
            "Epoch 890 loss: 0.40391\n",
            "Epoch 900 loss: 0.40246\n",
            "Epoch 910 loss: 0.40065\n",
            "Epoch 920 loss: 0.39927\n",
            "Epoch 930 loss: 0.39712\n",
            "Epoch 940 loss: 0.39537\n",
            "Epoch 950 loss: 0.39377\n",
            "Epoch 960 loss: 0.39210\n",
            "Epoch 970 loss: 0.39085\n",
            "Epoch 980 loss: 0.38949\n",
            "Epoch 990 loss: 0.38762\n",
            "Epoch 1000 loss: 0.38589\n",
            "Epoch 1010 loss: 0.38510\n",
            "Epoch 1020 loss: 0.38366\n",
            "Epoch 1030 loss: 0.38231\n",
            "Epoch 1040 loss: 0.38142\n",
            "Epoch 1050 loss: 0.38049\n",
            "Epoch 1060 loss: 0.37946\n",
            "Epoch 1070 loss: 0.37772\n",
            "Epoch 1080 loss: 0.37646\n",
            "Epoch 1090 loss: 0.37560\n",
            "Epoch 1100 loss: 0.37412\n",
            "Epoch 1110 loss: 0.37340\n",
            "Epoch 1120 loss: 0.37216\n",
            "Epoch 1130 loss: 0.37101\n",
            "Epoch 1140 loss: 0.37041\n",
            "Epoch 1150 loss: 0.36881\n",
            "Epoch 1160 loss: 0.36775\n",
            "Epoch 1170 loss: 0.36699\n",
            "Epoch 1180 loss: 0.36540\n",
            "Epoch 1190 loss: 0.36431\n",
            "Epoch 1200 loss: 0.36338\n",
            "Epoch 1210 loss: 0.36294\n",
            "Epoch 1220 loss: 0.36143\n",
            "Epoch 1230 loss: 0.36073\n",
            "Epoch 1240 loss: 0.35978\n",
            "Epoch 1250 loss: 0.35911\n",
            "Epoch 1260 loss: 0.35807\n",
            "Epoch 1270 loss: 0.35685\n",
            "Epoch 1280 loss: 0.35612\n",
            "Epoch 1290 loss: 0.35520\n",
            "Epoch 1300 loss: 0.35464\n",
            "Epoch 1310 loss: 0.35336\n",
            "Epoch 1320 loss: 0.35265\n",
            "Epoch 1330 loss: 0.35211\n",
            "Epoch 1340 loss: 0.35169\n",
            "Epoch 1350 loss: 0.35049\n",
            "Epoch 1360 loss: 0.34972\n",
            "Epoch 1370 loss: 0.34873\n",
            "Epoch 1380 loss: 0.34792\n",
            "Epoch 1390 loss: 0.34743\n",
            "Epoch 1400 loss: 0.34651\n",
            "Epoch 1410 loss: 0.34603\n",
            "Epoch 1420 loss: 0.34555\n",
            "Epoch 1430 loss: 0.34386\n",
            "Epoch 1440 loss: 0.34295\n",
            "Epoch 1450 loss: 0.34259\n",
            "Epoch 1460 loss: 0.34167\n",
            "Epoch 1470 loss: 0.34079\n",
            "Epoch 1480 loss: 0.34005\n",
            "Epoch 1490 loss: 0.34047\n",
            "Epoch 1500 loss: 0.33904\n",
            "Epoch 1510 loss: 0.33880\n",
            "Epoch 1520 loss: 0.33819\n",
            "Epoch 1530 loss: 0.33783\n",
            "Epoch 1540 loss: 0.33707\n",
            "Epoch 1550 loss: 0.33647\n",
            "Epoch 1560 loss: 0.33609\n",
            "Epoch 1570 loss: 0.33577\n",
            "Epoch 1580 loss: 0.33478\n",
            "Epoch 1590 loss: 0.33439\n",
            "Epoch 1600 loss: 0.33437\n",
            "Epoch 1610 loss: 0.33345\n",
            "Epoch 1620 loss: 0.33325\n",
            "Epoch 1630 loss: 0.33249\n",
            "Epoch 1640 loss: 0.33145\n",
            "Epoch 1650 loss: 0.33131\n",
            "Epoch 1660 loss: 0.33055\n",
            "Epoch 1670 loss: 0.33001\n",
            "Epoch 1680 loss: 0.32994\n",
            "Epoch 1690 loss: 0.32950\n",
            "Epoch 1700 loss: 0.32895\n",
            "Epoch 1710 loss: 0.32862\n",
            "Epoch 1720 loss: 0.32873\n",
            "Epoch 1730 loss: 0.32802\n",
            "Epoch 1740 loss: 0.32776\n",
            "Epoch 1750 loss: 0.32729\n",
            "Epoch 1760 loss: 0.32684\n",
            "Epoch 1770 loss: 0.32623\n",
            "Epoch 1780 loss: 0.32539\n",
            "Epoch 1790 loss: 0.32523\n",
            "Epoch 1800 loss: 0.32537\n",
            "Epoch 1810 loss: 0.32441\n",
            "Epoch 1820 loss: 0.32472\n",
            "Epoch 1830 loss: 0.32393\n",
            "Epoch 1840 loss: 0.32369\n",
            "Epoch 1850 loss: 0.32312\n",
            "Epoch 1860 loss: 0.32278\n",
            "Epoch 1870 loss: 0.32311\n",
            "Epoch 1880 loss: 0.32235\n",
            "Epoch 1890 loss: 0.32196\n",
            "Epoch 1900 loss: 0.32138\n",
            "Epoch 1910 loss: 0.32118\n",
            "Epoch 1920 loss: 0.31952\n",
            "Epoch 1930 loss: 0.31941\n",
            "Epoch 1940 loss: 0.31909\n",
            "Epoch 1950 loss: 0.31832\n",
            "Epoch 1960 loss: 0.31720\n",
            "Epoch 1970 loss: 0.31646\n",
            "Epoch 1980 loss: 0.31568\n",
            "Epoch 1990 loss: 0.31618\n",
            "Epoch 2000 loss: 0.31490\n",
            "Epoch 2010 loss: 0.31448\n",
            "Epoch 2020 loss: 0.31418\n",
            "Epoch 2030 loss: 0.31378\n",
            "Epoch 2040 loss: 0.31360\n",
            "Epoch 2050 loss: 0.31235\n",
            "Epoch 2060 loss: 0.31273\n",
            "Epoch 2070 loss: 0.31239\n",
            "Epoch 2080 loss: 0.31203\n",
            "Epoch 2090 loss: 0.31177\n",
            "Epoch 2100 loss: 0.31115\n",
            "Epoch 2110 loss: 0.31119\n",
            "Epoch 2120 loss: 0.31086\n",
            "Epoch 2130 loss: 0.30956\n",
            "Epoch 2140 loss: 0.31005\n",
            "Epoch 2150 loss: 0.30922\n",
            "Epoch 2160 loss: 0.30992\n",
            "Epoch 2170 loss: 0.30917\n",
            "Epoch 2180 loss: 0.30871\n",
            "Epoch 2190 loss: 0.30854\n",
            "Epoch 2200 loss: 0.30781\n",
            "Epoch 2210 loss: 0.30713\n",
            "Epoch 2220 loss: 0.30818\n",
            "Epoch 2230 loss: 0.30764\n",
            "Epoch 2240 loss: 0.30707\n",
            "Epoch 2250 loss: 0.30555\n",
            "Epoch 2260 loss: 0.30634\n",
            "Epoch 2270 loss: 0.30634\n",
            "Epoch 2280 loss: 0.30543\n",
            "Epoch 2290 loss: 0.30591\n",
            "Epoch 2300 loss: 0.30482\n",
            "Epoch 2310 loss: 0.30442\n",
            "Epoch 2320 loss: 0.30459\n",
            "Epoch 2330 loss: 0.30387\n",
            "Epoch 2340 loss: 0.30337\n",
            "Epoch 2350 loss: 0.30309\n",
            "Epoch 2360 loss: 0.30240\n",
            "Epoch 2370 loss: 0.30286\n",
            "Epoch 2380 loss: 0.30233\n",
            "Epoch 2390 loss: 0.30200\n",
            "Epoch 2400 loss: 0.30182\n",
            "Epoch 2410 loss: 0.30132\n",
            "Epoch 2420 loss: 0.30031\n",
            "Epoch 2430 loss: 0.30038\n",
            "Epoch 2440 loss: 0.29952\n",
            "Epoch 2450 loss: 0.29985\n",
            "Epoch 2460 loss: 0.29918\n",
            "Epoch 2470 loss: 0.29888\n",
            "Epoch 2480 loss: 0.29857\n",
            "Epoch 2490 loss: 0.29828\n",
            "Epoch 2500 loss: 0.29767\n",
            "Epoch 2510 loss: 0.29686\n",
            "Epoch 2520 loss: 0.29854\n",
            "Epoch 2530 loss: 0.29737\n",
            "Epoch 2540 loss: 0.29668\n",
            "Epoch 2550 loss: 0.29681\n",
            "Epoch 2560 loss: 0.29576\n",
            "Epoch 2570 loss: 0.29497\n",
            "Epoch 2580 loss: 0.29526\n",
            "Epoch 2590 loss: 0.29502\n",
            "Epoch 2600 loss: 0.29497\n",
            "Epoch 2610 loss: 0.29480\n",
            "Epoch 2620 loss: 0.29434\n",
            "Epoch 2630 loss: 0.29415\n",
            "Epoch 2640 loss: 0.29385\n",
            "Epoch 2650 loss: 0.29388\n",
            "Epoch 2660 loss: 0.29342\n",
            "Epoch 2670 loss: 0.29179\n",
            "Epoch 2680 loss: 0.29362\n",
            "Epoch 2690 loss: 0.29199\n",
            "Epoch 2700 loss: 0.29212\n",
            "Epoch 2710 loss: 0.29149\n",
            "Epoch 2720 loss: 0.29082\n",
            "Epoch 2730 loss: 0.29128\n",
            "Epoch 2740 loss: 0.29094\n",
            "Epoch 2750 loss: 0.29199\n",
            "Epoch 2760 loss: 0.29207\n",
            "Epoch 2770 loss: 0.29184\n",
            "Epoch 2780 loss: 0.29154\n",
            "Epoch 2790 loss: 0.29155\n",
            "Epoch 2800 loss: 0.29161\n",
            "Epoch 2810 loss: 0.29272\n",
            "Epoch 2820 loss: 0.29365\n",
            "Epoch 2830 loss: 0.29261\n",
            "Epoch 2840 loss: 0.29250\n",
            "Epoch 2850 loss: 0.29263\n",
            "Epoch 2860 loss: 0.29268\n",
            "Epoch 2870 loss: 0.29156\n",
            "Epoch 2880 loss: 0.29228\n",
            "Epoch 2890 loss: 0.29241\n",
            "Epoch 2900 loss: 0.29191\n",
            "Epoch 2910 loss: 0.29158\n",
            "Epoch 2920 loss: 0.29122\n",
            "Epoch 2930 loss: 0.29130\n",
            "Epoch 2940 loss: 0.29131\n",
            "Epoch 2950 loss: 0.29130\n",
            "Epoch 2960 loss: 0.28964\n",
            "Epoch 2970 loss: 0.29095\n",
            "Epoch 2980 loss: 0.29122\n",
            "Epoch 2990 loss: 0.29061\n",
            "Training success rate: 0.912\n",
            "Test success rate: 0.8984375\n"
          ],
          "name": "stdout"
        }
      ]
    },
    {
      "cell_type": "markdown",
      "metadata": {
        "id": "IeLLrZ-HZNlt"
      },
      "source": [
        "### Summary\n",
        "\n",
        "These results are by no means perfect and can be easily improved.  However, our emphasis has been on the basics.  I strongly recommend studying these examples and playing with similar code on your own.  Then, just jump into the HW 5 assignment.  You really can write the solutions with relatively little code.  You are also welcome to use as much of the code I've provided here as you wish.  The only thing I have not covered that you need is the implementation of convolutional networks, but you can find examples that will help you get started there."
      ]
    }
  ]
}