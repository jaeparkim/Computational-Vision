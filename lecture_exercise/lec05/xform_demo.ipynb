{
 "cells": [
  {
   "cell_type": "markdown",
   "metadata": {},
   "source": [
    "### Lecture 5 Demonstration of Transformations"
   ]
  },
  {
   "cell_type": "markdown",
   "metadata": {},
   "source": [
    "This is a fairly simple demonstration of the effects of transformations on a set of points that form the unit square. It is also a good starting point for seeing how to display point sets.  "
   ]
  },
  {
   "cell_type": "code",
   "execution_count": 1,
   "metadata": {},
   "outputs": [],
   "source": [
    "import cv2\n",
    "import numpy as np\n",
    "from matplotlib import pyplot as plt\n",
    "import math as m"
   ]
  },
  {
   "cell_type": "code",
   "execution_count": 3,
   "metadata": {},
   "outputs": [],
   "source": [
    "def apply_and_show(xform):\n",
    "    '''\n",
    "        Apply a transformation to the unit square and show the result\n",
    "    '''\n",
    "    # Form the unit square.  Setting to float is important here.\n",
    "    before_points = np.array([(0,0), (1,0), (1,1), (0,1), (0,0)],dtype='float32')\n",
    "    print(before_points.shape)\n",
    "    # Apply the transformation.  OpenCV expects the points to be embedded in a 3d array\n",
    "    after_points = cv2.perspectiveTransform( np.array([before_points]), xform)\n",
    "\n",
    "    print(\"after_points shape\", after_points.shape)\n",
    "    print(\"after points\", after_points )\n",
    "    after_points = after_points[0]\n",
    "    \n",
    "    # Extract the x and y lists\n",
    "    before_x = before_points[:,0]\n",
    "    before_y = before_points[:,1]\n",
    "    after_x = after_points[:,0]\n",
    "    after_y = after_points[:,1]\n",
    "\n",
    "    # Find the bounds on the display\n",
    "    x0 = min(np.min(before_x), np.min(after_x)) - 1\n",
    "    x1 = max(np.max(before_x), np.max(after_x)) + 1\n",
    "    y0 = min(np.min(before_y), np.min(after_y)) - 1\n",
    "    y1 = max(np.max(before_y), np.max(after_y)) + 1\n",
    "    \n",
    "    # Plot as two separate figures\n",
    "    plt.plot(before_x, before_y)\n",
    "    plt.plot(after_x, after_y)\n",
    "    plt.axis('equal')\n",
    "    plt.axis([x0,x1,y0,y1])\n",
    "    plt.show()"
   ]
  },
  {
   "cell_type": "code",
   "execution_count": 4,
   "metadata": {},
   "outputs": [
    {
     "name": "stdout",
     "output_type": "stream",
     "text": [
      "(5, 2)\n",
      "after_points shape (1, 5, 2)\n",
      "after points [[[ 4.         -1.        ]\n",
      "  [ 4.7071066  -0.29289323]\n",
      "  [ 4.          0.41421354]\n",
      "  [ 3.2928932  -0.29289323]\n",
      "  [ 4.         -1.        ]]]\n"
     ]
    },
    {
     "data": {
      "image/png": "[encoded data removed]",
      "text/plain": [
       "<Figure size 432x288 with 1 Axes>"
      ]
     },
     "metadata": {
      "needs_background": "light"
     },
     "output_type": "display_data"
    }
   ],
   "source": [
    "# Rigid transformation\n",
    "theta = 45 * m.pi / 180\n",
    "cos_theta = m.cos(theta)\n",
    "sin_theta = m.sin(theta)\n",
    "tx, ty = 4, -1\n",
    "xform = np.array([[cos_theta,-sin_theta,tx],[sin_theta,cos_theta,ty], [0,0,1]], dtype='float32')\n",
    "apply_and_show(xform)"
   ]
  },
  {
   "cell_type": "code",
   "execution_count": 5,
   "metadata": {},
   "outputs": [
    {
     "name": "stdout",
     "output_type": "stream",
     "text": [
      "(5, 2)\n",
      "after_points shape (1, 5, 2)\n",
      "after points [[[3.        3.       ]\n",
      "  [5.04788   4.433941 ]\n",
      "  [3.613939  6.481821 ]\n",
      "  [1.5660589 5.04788  ]\n",
      "  [3.        3.       ]]]\n"
     ]
    },
    {
     "data": {
      "image/png": "[encoded data removed]",
      "text/plain": [
       "<Figure size 432x288 with 1 Axes>"
      ]
     },
     "metadata": {
      "needs_background": "light"
     },
     "output_type": "display_data"
    }
   ],
   "source": [
    "# Similarity transformation\n",
    "theta = 35 * m.pi / 180\n",
    "scale = 2.5\n",
    "a = scale * m.cos(theta)\n",
    "b = scale * m.sin(theta)\n",
    "tx, ty = 3, 3\n",
    "xform = np.array([[a,-b,tx],[b,a,ty], [0,0,1]], dtype='float32')\n",
    "apply_and_show(xform)"
   ]
  },
  {
   "cell_type": "code",
   "execution_count": 6,
   "metadata": {},
   "outputs": [
    {
     "name": "stdout",
     "output_type": "stream",
     "text": [
      "(5, 2)\n",
      "after_points shape (1, 5, 2)\n",
      "after points [[[2.  2. ]\n",
      "  [4.  1.3]\n",
      "  [3.5 2.3]\n",
      "  [1.5 3. ]\n",
      "  [2.  2. ]]]\n"
     ]
    },
    {
     "data": {
      "image/png": "[encoded data removed]",
      "text/plain": [
       "<Figure size 432x288 with 1 Axes>"
      ]
     },
     "metadata": {
      "needs_background": "light"
     },
     "output_type": "display_data"
    }
   ],
   "source": [
    "a11 = 2; a12 = -.5\n",
    "a21 = -0.7; a22 = 1\n",
    "tx = 2; ty = 2\n",
    "xform = np.array([[a11,a12, tx],[a21,a22,ty], [0,0,1]], dtype='float32')\n",
    "apply_and_show(xform)"
   ]
  },
  {
   "cell_type": "code",
   "execution_count": 7,
   "metadata": {},
   "outputs": [
    {
     "name": "stdout",
     "output_type": "stream",
     "text": [
      "(5, 2)\n",
      "after_points shape (1, 5, 2)\n",
      "after points [[[ 1.5       -1.5      ]\n",
      "  [ 2.173913  -1.1304348]\n",
      "  [ 1.4375    -0.1875   ]\n",
      "  [ 0.8965517 -0.3448276]\n",
      "  [ 1.5       -1.5      ]]]\n"
     ]
    },
    {
     "data": {
      "image/png": "[encoded data removed]",
      "text/plain": [
       "<Figure size 432x288 with 1 Axes>"
      ]
     },
     "metadata": {
      "needs_background": "light"
     },
     "output_type": "display_data"
    }
   ],
   "source": [
    "h11 = 1; h12 = -0.2; h13 = 1.5\n",
    "h21 = 0.2; h22 = 1; h23 = -1.5\n",
    "h31 = 0.15; h32 = 0.45; h33 = 1\n",
    "xform = np.array([[h11,h12,h13],[h21,h22,h23], [h31,h32,h33]], dtype='float32')\n",
    "apply_and_show(xform)"
   ]
  },
  {
   "cell_type": "code",
   "execution_count": null,
   "metadata": {},
   "outputs": [],
   "source": []
  }
 ],
 "metadata": {
  "kernelspec": {
   "display_name": "Python 3",
   "language": "python",
   "name": "python3"
  },
  "language_info": {
   "codemirror_mode": {
    "name": "ipython",
    "version": 3
   },
   "file_extension": ".py",
   "mimetype": "text/x-python",
   "name": "python",
   "nbconvert_exporter": "python",
   "pygments_lexer": "ipython3",
   "version": "3.8.5"
  }
 },
 "nbformat": 4,
 "nbformat_minor": 1
}
