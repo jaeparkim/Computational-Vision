{
 "cells": [
  {
   "cell_type": "markdown",
   "metadata": {},
   "source": [
    "### Keypoint detection demo\n",
    "\n",
    "The main point of this notebook demonstrates the details of the Harris keypoint detector.  It ends with an example of using the SIFT class in OpenCV\n"
   ]
  },
  {
   "cell_type": "code",
   "execution_count": 1,
   "metadata": {},
   "outputs": [],
   "source": [
    "import cv2         \n",
    "import numpy as np\n",
    "from matplotlib import pyplot as plt\n",
    "import image_plot_utilities as ipu\n",
    "import resize_img"
   ]
  },
  {
   "cell_type": "code",
   "execution_count": 2,
   "metadata": {},
   "outputs": [
    {
     "ename": "TypeError",
     "evalue": "Image data of dtype object cannot be converted to float",
     "output_type": "error",
     "traceback": [
      "\u001b[0;31m---------------------------------------------------------------------------\u001b[0m",
      "\u001b[0;31mTypeError\u001b[0m                                 Traceback (most recent call last)",
      "\u001b[0;32m<ipython-input-2-1a0030526f7a>\u001b[0m in \u001b[0;36m<module>\u001b[0;34m\u001b[0m\n\u001b[1;32m      5\u001b[0m \u001b[0mim\u001b[0m \u001b[0;34m=\u001b[0m \u001b[0mcv2\u001b[0m\u001b[0;34m.\u001b[0m\u001b[0mimread\u001b[0m\u001b[0;34m(\u001b[0m\u001b[0mim_name\u001b[0m\u001b[0;34m,\u001b[0m \u001b[0mcv2\u001b[0m\u001b[0;34m.\u001b[0m\u001b[0mIMREAD_GRAYSCALE\u001b[0m\u001b[0;34m)\u001b[0m\u001b[0;34m\u001b[0m\u001b[0;34m\u001b[0m\u001b[0m\n\u001b[1;32m      6\u001b[0m \u001b[0mplt\u001b[0m\u001b[0;34m.\u001b[0m\u001b[0mgray\u001b[0m\u001b[0;34m(\u001b[0m\u001b[0;34m)\u001b[0m\u001b[0;34m\u001b[0m\u001b[0;34m\u001b[0m\u001b[0m\n\u001b[0;32m----> 7\u001b[0;31m \u001b[0mplt\u001b[0m\u001b[0;34m.\u001b[0m\u001b[0mimshow\u001b[0m\u001b[0;34m(\u001b[0m\u001b[0mim\u001b[0m\u001b[0;34m)\u001b[0m\u001b[0;34m\u001b[0m\u001b[0;34m\u001b[0m\u001b[0m\n\u001b[0m\u001b[1;32m      8\u001b[0m \u001b[0mplt\u001b[0m\u001b[0;34m.\u001b[0m\u001b[0mshow\u001b[0m\u001b[0;34m(\u001b[0m\u001b[0;34m)\u001b[0m\u001b[0;34m\u001b[0m\u001b[0;34m\u001b[0m\u001b[0m\n\u001b[1;32m      9\u001b[0m \u001b[0;31m# ipu.show_with_pixel_values(im)\u001b[0m\u001b[0;34m\u001b[0m\u001b[0;34m\u001b[0m\u001b[0;34m\u001b[0m\u001b[0m\n",
      "\u001b[0;32m~/anaconda3/lib/python3.8/site-packages/matplotlib/pyplot.py\u001b[0m in \u001b[0;36mimshow\u001b[0;34m(X, cmap, norm, aspect, interpolation, alpha, vmin, vmax, origin, extent, filternorm, filterrad, resample, url, data, **kwargs)\u001b[0m\n\u001b[1;32m   2722\u001b[0m         \u001b[0mfilternorm\u001b[0m\u001b[0;34m=\u001b[0m\u001b[0;32mTrue\u001b[0m\u001b[0;34m,\u001b[0m \u001b[0mfilterrad\u001b[0m\u001b[0;34m=\u001b[0m\u001b[0;36m4.0\u001b[0m\u001b[0;34m,\u001b[0m \u001b[0mresample\u001b[0m\u001b[0;34m=\u001b[0m\u001b[0;32mNone\u001b[0m\u001b[0;34m,\u001b[0m \u001b[0murl\u001b[0m\u001b[0;34m=\u001b[0m\u001b[0;32mNone\u001b[0m\u001b[0;34m,\u001b[0m\u001b[0;34m\u001b[0m\u001b[0;34m\u001b[0m\u001b[0m\n\u001b[1;32m   2723\u001b[0m         data=None, **kwargs):\n\u001b[0;32m-> 2724\u001b[0;31m     __ret = gca().imshow(\n\u001b[0m\u001b[1;32m   2725\u001b[0m         \u001b[0mX\u001b[0m\u001b[0;34m,\u001b[0m \u001b[0mcmap\u001b[0m\u001b[0;34m=\u001b[0m\u001b[0mcmap\u001b[0m\u001b[0;34m,\u001b[0m \u001b[0mnorm\u001b[0m\u001b[0;34m=\u001b[0m\u001b[0mnorm\u001b[0m\u001b[0;34m,\u001b[0m \u001b[0maspect\u001b[0m\u001b[0;34m=\u001b[0m\u001b[0maspect\u001b[0m\u001b[0;34m,\u001b[0m\u001b[0;34m\u001b[0m\u001b[0;34m\u001b[0m\u001b[0m\n\u001b[1;32m   2726\u001b[0m         \u001b[0minterpolation\u001b[0m\u001b[0;34m=\u001b[0m\u001b[0minterpolation\u001b[0m\u001b[0;34m,\u001b[0m \u001b[0malpha\u001b[0m\u001b[0;34m=\u001b[0m\u001b[0malpha\u001b[0m\u001b[0;34m,\u001b[0m \u001b[0mvmin\u001b[0m\u001b[0;34m=\u001b[0m\u001b[0mvmin\u001b[0m\u001b[0;34m,\u001b[0m\u001b[0;34m\u001b[0m\u001b[0;34m\u001b[0m\u001b[0m\n",
      "\u001b[0;32m~/anaconda3/lib/python3.8/site-packages/matplotlib/__init__.py\u001b[0m in \u001b[0;36minner\u001b[0;34m(ax, data, *args, **kwargs)\u001b[0m\n\u001b[1;32m   1436\u001b[0m     \u001b[0;32mdef\u001b[0m \u001b[0minner\u001b[0m\u001b[0;34m(\u001b[0m\u001b[0max\u001b[0m\u001b[0;34m,\u001b[0m \u001b[0;34m*\u001b[0m\u001b[0margs\u001b[0m\u001b[0;34m,\u001b[0m \u001b[0mdata\u001b[0m\u001b[0;34m=\u001b[0m\u001b[0;32mNone\u001b[0m\u001b[0;34m,\u001b[0m \u001b[0;34m**\u001b[0m\u001b[0mkwargs\u001b[0m\u001b[0;34m)\u001b[0m\u001b[0;34m:\u001b[0m\u001b[0;34m\u001b[0m\u001b[0;34m\u001b[0m\u001b[0m\n\u001b[1;32m   1437\u001b[0m         \u001b[0;32mif\u001b[0m \u001b[0mdata\u001b[0m \u001b[0;32mis\u001b[0m \u001b[0;32mNone\u001b[0m\u001b[0;34m:\u001b[0m\u001b[0;34m\u001b[0m\u001b[0;34m\u001b[0m\u001b[0m\n\u001b[0;32m-> 1438\u001b[0;31m             \u001b[0;32mreturn\u001b[0m \u001b[0mfunc\u001b[0m\u001b[0;34m(\u001b[0m\u001b[0max\u001b[0m\u001b[0;34m,\u001b[0m \u001b[0;34m*\u001b[0m\u001b[0mmap\u001b[0m\u001b[0;34m(\u001b[0m\u001b[0msanitize_sequence\u001b[0m\u001b[0;34m,\u001b[0m \u001b[0margs\u001b[0m\u001b[0;34m)\u001b[0m\u001b[0;34m,\u001b[0m \u001b[0;34m**\u001b[0m\u001b[0mkwargs\u001b[0m\u001b[0;34m)\u001b[0m\u001b[0;34m\u001b[0m\u001b[0;34m\u001b[0m\u001b[0m\n\u001b[0m\u001b[1;32m   1439\u001b[0m \u001b[0;34m\u001b[0m\u001b[0m\n\u001b[1;32m   1440\u001b[0m         \u001b[0mbound\u001b[0m \u001b[0;34m=\u001b[0m \u001b[0mnew_sig\u001b[0m\u001b[0;34m.\u001b[0m\u001b[0mbind\u001b[0m\u001b[0;34m(\u001b[0m\u001b[0max\u001b[0m\u001b[0;34m,\u001b[0m \u001b[0;34m*\u001b[0m\u001b[0margs\u001b[0m\u001b[0;34m,\u001b[0m \u001b[0;34m**\u001b[0m\u001b[0mkwargs\u001b[0m\u001b[0;34m)\u001b[0m\u001b[0;34m\u001b[0m\u001b[0;34m\u001b[0m\u001b[0m\n",
      "\u001b[0;32m~/anaconda3/lib/python3.8/site-packages/matplotlib/axes/_axes.py\u001b[0m in \u001b[0;36mimshow\u001b[0;34m(self, X, cmap, norm, aspect, interpolation, alpha, vmin, vmax, origin, extent, filternorm, filterrad, resample, url, **kwargs)\u001b[0m\n\u001b[1;32m   5521\u001b[0m                               resample=resample, **kwargs)\n\u001b[1;32m   5522\u001b[0m \u001b[0;34m\u001b[0m\u001b[0m\n\u001b[0;32m-> 5523\u001b[0;31m         \u001b[0mim\u001b[0m\u001b[0;34m.\u001b[0m\u001b[0mset_data\u001b[0m\u001b[0;34m(\u001b[0m\u001b[0mX\u001b[0m\u001b[0;34m)\u001b[0m\u001b[0;34m\u001b[0m\u001b[0;34m\u001b[0m\u001b[0m\n\u001b[0m\u001b[1;32m   5524\u001b[0m         \u001b[0mim\u001b[0m\u001b[0;34m.\u001b[0m\u001b[0mset_alpha\u001b[0m\u001b[0;34m(\u001b[0m\u001b[0malpha\u001b[0m\u001b[0;34m)\u001b[0m\u001b[0;34m\u001b[0m\u001b[0;34m\u001b[0m\u001b[0m\n\u001b[1;32m   5525\u001b[0m         \u001b[0;32mif\u001b[0m \u001b[0mim\u001b[0m\u001b[0;34m.\u001b[0m\u001b[0mget_clip_path\u001b[0m\u001b[0;34m(\u001b[0m\u001b[0;34m)\u001b[0m \u001b[0;32mis\u001b[0m \u001b[0;32mNone\u001b[0m\u001b[0;34m:\u001b[0m\u001b[0;34m\u001b[0m\u001b[0;34m\u001b[0m\u001b[0m\n",
      "\u001b[0;32m~/anaconda3/lib/python3.8/site-packages/matplotlib/image.py\u001b[0m in \u001b[0;36mset_data\u001b[0;34m(self, A)\u001b[0m\n\u001b[1;32m    698\u001b[0m         if (self._A.dtype != np.uint8 and\n\u001b[1;32m    699\u001b[0m                 not np.can_cast(self._A.dtype, float, \"same_kind\")):\n\u001b[0;32m--> 700\u001b[0;31m             raise TypeError(\"Image data of dtype {} cannot be converted to \"\n\u001b[0m\u001b[1;32m    701\u001b[0m                             \"float\".format(self._A.dtype))\n\u001b[1;32m    702\u001b[0m \u001b[0;34m\u001b[0m\u001b[0m\n",
      "\u001b[0;31mTypeError\u001b[0m: Image data of dtype object cannot be converted to float"
     ]
    },
    {
     "data": {
      "image/png": "[encoded data removed]",
      "text/plain": [
       "<Figure size 432x288 with 1 Axes>"
      ]
     },
     "metadata": {
      "needs_background": "light"
     },
     "output_type": "display_data"
    }
   ],
   "source": [
    "'''  We'll test with license plate images from the web '''\n",
    "\n",
    "# im_name = '../test_images/license_plates/florida-plate.jpg'\n",
    "im_name = 'test.png'\n",
    "im = cv2.imread(im_name, cv2.IMREAD_GRAYSCALE)\n",
    "plt.gray()\n",
    "plt.imshow(im)\n",
    "plt.show()\n",
    "# ipu.show_with_pixel_values(im)\n",
    "im = resize_img.resize_img(im,800).astype(float)"
   ]
  },
  {
   "cell_type": "markdown",
   "metadata": {},
   "source": [
    "The next block of code performs the steps of computing the Harris measure."
   ]
  },
  {
   "cell_type": "code",
   "execution_count": null,
   "metadata": {},
   "outputs": [],
   "source": [
    "'''  Gaussian smoothing '''\n",
    "sigma = 1\n",
    "ksize = (4*sigma+1,4*sigma+1)\n",
    "im_s = cv2.GaussianBlur(im.astype(np.float32), ksize, sigma)\n",
    "\n",
    "'''  Derivative kernels '''\n",
    "kx,ky = cv2.getDerivKernels(1,1,3)\n",
    "kx = np.transpose(kx/2)\n",
    "ky = ky/2\n",
    "\n",
    "'''  Derivatives '''\n",
    "im_dx = cv2.filter2D(im_s,-1,kx)\n",
    "im_dy = cv2.filter2D(im_s,-1,ky)\n",
    "\n",
    "''' Components of the outer product '''\n",
    "im_dx_sq = im_dx * im_dx\n",
    "im_dy_sq = im_dy * im_dy\n",
    "im_dx_dy = im_dx * im_dy\n",
    "\n",
    "''' Convolution of the outer product with the Gaussian kernel\n",
    "    gives the summed values desired '''\n",
    "h_sigma = 2*sigma\n",
    "h_ksize = (4*h_sigma+1,4*h_sigma+1)\n",
    "im_dx_sq = cv2.GaussianBlur(im_dx_sq, h_ksize, h_sigma)\n",
    "im_dy_sq = cv2.GaussianBlur(im_dy_sq, h_ksize, h_sigma)\n",
    "im_dx_dy = cv2.GaussianBlur(im_dx_dy, h_ksize, h_sigma)\n",
    "\n",
    "''' Compute the Harris measure '''\n",
    "kappa = 0.004\n",
    "im_det = im_dx_sq * im_dy_sq - im_dx_dy * im_dx_dy\n",
    "im_trace = im_dx_sq + im_dy_sq\n",
    "im_harris = im_det - kappa * im_trace*im_trace\n",
    "\n",
    "''' Show the gray scale image and the Harris image '''\n",
    "ipu.plot_pics( [im, im_harris], 1, ['Original', 'Harris'] )"
   ]
  },
  {
   "cell_type": "markdown",
   "metadata": {},
   "source": [
    "Now we come to the peak detection and non-maximum suppression step.  This requires use of a combination of thresholding, dilation, pixel-by-pixel comparison, and image multiplication.  See if you can understand the following steps."
   ]
  },
  {
   "cell_type": "code",
   "execution_count": null,
   "metadata": {},
   "outputs": [],
   "source": [
    "''' Renormalize the intensities into the 0..255 range '''\n",
    "i_min = np.min(im_harris)\n",
    "i_max = np.max(im_harris)\n",
    "print(\"Before normalization the minimum and maximum harris measures are\",\n",
    "     i_min, i_max)\n",
    "im_harris = 255 * (im_harris - i_min) / (i_max-i_min)\n",
    "\n",
    "'''\n",
    "Apply non-maximum thresholding using dilation. Comparing the dilated image to the\n",
    "Harris image will preserve only those locations that are peaks.\n",
    "'''\n",
    "max_dist = 2*sigma\n",
    "kernel = np.ones((2*max_dist+1, 2*max_dist+1), im_harris.dtype)\n",
    "im_harris_dilate = cv2.dilate(im_harris, kernel)\n",
    "im_harris[np.where(im_harris < im_harris_dilate)] = 0\n",
    "\n",
    "ipu.plot_pics( [im_harris_dilate, im_harris], 1, ['Dilated image', 'Peaks'] )\n",
    "\n",
    "'''\n",
    "Get the normalized Harris measures of the peaks\n",
    "'''\n",
    "peak_values = im_harris[np.where(im_harris>0)]\n",
    "peak_values = np.sort(peak_values, axis=None)\n",
    "print(\"After NMS, there are %d peaks and this is %.2f of the total number of pixels\"\n",
    "      % (len(peak_values), len(peak_values)/im_harris.size))\n",
    "print(\"And, the top, middle and bottom values are\",\n",
    "      peak_values[-1], peak_values[len(peak_values)//2], peak_values[0])\n",
    "\n",
    "'''\n",
    "Keep only those that are in the top fraction.\n",
    "'''\n",
    "threshold_frac = 0.25\n",
    "threshold_index = int((1-threshold_frac)*len(peak_values))\n",
    "threshold = peak_values[threshold_index]\n",
    "print(\"The threshold to keep only the top %.1f percent of the peaks is %.1f\"\n",
    "      % (threshold_frac*100, threshold))\n",
    "_, im_harris_thresh = cv2.threshold(im_harris.astype(np.uint8), threshold,\n",
    "                                 1, cv2.THRESH_BINARY)\n"
   ]
  },
  {
   "cell_type": "markdown",
   "metadata": {},
   "source": [
    "As the last step we need to extract the Harris keypoints and convert them to OpenCV KeyPoint objects.  Once we do this, we can display the keypoints on the original image. "
   ]
  },
  {
   "cell_type": "code",
   "execution_count": null,
   "metadata": {
    "scrolled": false
   },
   "outputs": [],
   "source": [
    "'''  Extract all indices '''\n",
    "indices = np.where(im_harris_thresh > 0)\n",
    "ys,xs = indices[0],indices[1]   # rows and columns\n",
    "\n",
    "''' Put them into the keypoint list '''\n",
    "kp_size = 4*sigma\n",
    "harris_keypoints = [\n",
    "    cv2.KeyPoint(float(xs[i]), float(ys[i]), kp_size)\n",
    "    for i in range(len(xs))\n",
    "]\n",
    "\n",
    "print(\"We have\", len(harris_keypoints), \"keypoints.\")\n",
    "\n",
    "out_img = cv2.drawKeypoints( im.astype(np.uint8), harris_keypoints, None)\n",
    "ipu.plot_pics( [out_img], 1, ['Harris keypoints shown'] )\n"
   ]
  },
  {
   "cell_type": "markdown",
   "metadata": {},
   "source": [
    "#### About SIFT: \n",
    "\n",
    "The SIFT algorithm was patented, but despite the patent, an implementation of SIFT was part of OpenCV for many years.  In 2014 or so it was moved to the \"contrib\" package and then not compiled with the default distribution. It was still available for compilation and installation from source for academic and non-commercial uses.  With the expiration of the patent in March 2020, SIFT is back in the OpenCV distribution. Therefore, please be sure your OpenCV version is up to date."
   ]
  },
  {
   "cell_type": "code",
   "execution_count": null,
   "metadata": {},
   "outputs": [],
   "source": [
    "\"\"\"\n",
    "This code shows the results of the SIFT keypoint detector.\n",
    "\"\"\"\n",
    "sift_alg = cv2.SIFT_create()\n",
    "sift_kp = sift_alg.detect(im.astype(np.uint8),None)\n",
    "print(len(sift_kp), \"keypoints detected\")\n",
    "sift_out_img = cv2.drawKeypoints(im.astype(np.uint8), sift_kp, None)\n",
    "ipu.plot_pics( [sift_out_img], 1, ['SIFT keypoints shown'] )\n"
   ]
  },
  {
   "cell_type": "markdown",
   "metadata": {},
   "source": [
    "#### ORB instead:\n",
    "\n",
    "Following the publication of SIFT, especially the 2004 IJCV version, there was an explosion of research on alternative algorithms. One of these, ORB, was developed and published in 2011 at ICCV, by the original designers of OpenCV. We will not consider too much the details of how ORB works, but will employ the fact that it does produce both keypoint locations and descriptors. For now, we will only look at the ORB detection results.  Many other keypoint and descriptor algorithms have been contributed to OpenCV as can be seen in the class hierarchy for cv::Feature2D https://docs.opencv.org/4.1.1/d0/d13/classcv_1_1Feature2D.html"
   ]
  },
  {
   "cell_type": "code",
   "execution_count": null,
   "metadata": {},
   "outputs": [],
   "source": [
    "im_name = '../test_images/license_plates/wisconsin-plate.jpg'\n",
    "im = cv2.imread(im_name, cv2.IMREAD_GRAYSCALE)\n",
    "im = resize_img.resize_img(im, 800)\n",
    "\n",
    "num_features = 1000\n",
    "orb = cv2.ORB_create(num_features)        # See method doc for other parameters\n",
    "kp, des = orb.detectAndCompute(im, None)  # The None argument is where a binary mask could be\n",
    "\n",
    "print(\"There are %d keypoints and descriptors, and each descriptor is length %d\"\n",
    "      % (len(kp), len(des[0])))\n",
    "\n",
    "print('\\nHere the first 10 keypoints')\n",
    "for k in kp[:10]:\n",
    "    print(k.response, k.pt, k.angle, k.size)\n",
    "\n",
    "out_im = cv2.drawKeypoints(im, kp, None)\n",
    "ipu.plot_pics( [out_im], 1, ['ORB keypoints shown'] )\n"
   ]
  },
  {
   "cell_type": "code",
   "execution_count": null,
   "metadata": {},
   "outputs": [],
   "source": []
  }
 ],
 "metadata": {
  "kernelspec": {
   "display_name": "Python 3",
   "language": "python",
   "name": "python3"
  },
  "language_info": {
   "codemirror_mode": {
    "name": "ipython",
    "version": 3
   },
   "file_extension": ".py",
   "mimetype": "text/x-python",
   "name": "python",
   "nbconvert_exporter": "python",
   "pygments_lexer": "ipython3",
   "version": "3.8.5"
  }
 },
 "nbformat": 4,
 "nbformat_minor": 1
}
